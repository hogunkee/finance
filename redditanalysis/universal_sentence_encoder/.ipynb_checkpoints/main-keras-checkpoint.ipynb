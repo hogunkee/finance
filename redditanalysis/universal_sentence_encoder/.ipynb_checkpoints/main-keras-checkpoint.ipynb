{
 "cells": [
  {
   "cell_type": "code",
   "execution_count": 1,
   "metadata": {},
   "outputs": [
    {
     "name": "stderr",
     "output_type": "stream",
     "text": [
      "/home/qara/anaconda3/lib/python3.6/site-packages/h5py/__init__.py:36: FutureWarning: Conversion of the second argument of issubdtype from `float` to `np.floating` is deprecated. In future, it will be treated as `np.float64 == np.dtype(float).type`.\n",
      "  from ._conv import register_converters as _register_converters\n"
     ]
    }
   ],
   "source": [
    "import datetime\n",
    "import numpy as np\n",
    "import pandas as pd\n",
    "import pickle\n",
    "\n",
    "import tensorflow as tf\n",
    "import tensorflow_hub as hub\n",
    "from pymongo import MongoClient\n",
    "from sklearn.metrics.pairwise import cosine_similarity\n",
    "\n",
    "tf.logging.set_verbosity(0)"
   ]
  },
  {
   "cell_type": "code",
   "execution_count": 2,
   "metadata": {},
   "outputs": [],
   "source": [
    "start_date = '2018-04-01'\n",
    "valid_date = '2018-05-01'"
   ]
  },
  {
   "cell_type": "code",
   "execution_count": 3,
   "metadata": {},
   "outputs": [],
   "source": [
    "def load_obj(name):\n",
    "    with open('obj/' + name + '.pkl', 'rb') as f:\n",
    "        return pickle.load(f)\n",
    "\n",
    "def save_obj(obj, name):\n",
    "    with open('obj/' + name + '.pkl', 'wb') as f:\n",
    "        pickle.dump(obj, f, pickle.HIGHEST_PROTOCOL)\n"
   ]
  },
  {
   "cell_type": "code",
   "execution_count": 4,
   "metadata": {},
   "outputs": [],
   "source": [
    "def labeling_data(ratio):\n",
    "    print('labeling data')\n",
    "    df = load_obj('total_data')\n",
    "    date_list = pd.unique(df['date'])\n",
    "\n",
    "    df['label'] = np.zeros(len(df), dtype=np.int32)\n",
    "    top_score = []\n",
    "\n",
    "    for day in date_list:\n",
    "        df_by_date = df[df['date'] == day]\n",
    "        topk = int(ratio * len(df_by_date))\n",
    "        top_score.extend(df_by_date.score.nlargest(topk).index)\n",
    "\n",
    "    df['label'][top_score] = 1 \n",
    "\n",
    "    save_obj(df, 'total_data')\n",
    "    del df\n",
    "\n",
    "#labeling_data(0.1)"
   ]
  },
  {
   "cell_type": "code",
   "execution_count": 5,
   "metadata": {},
   "outputs": [
    {
     "name": "stdout",
     "output_type": "stream",
     "text": [
      "total data: 1370234\n"
     ]
    }
   ],
   "source": [
    "total_data = load_obj('total_data')\n",
    "print('total data:', len(total_data))"
   ]
  },
  {
   "cell_type": "code",
   "execution_count": 6,
   "metadata": {},
   "outputs": [
    {
     "name": "stdout",
     "output_type": "stream",
     "text": [
      "train data: 21767\n",
      "test data: 21862\n"
     ]
    }
   ],
   "source": [
    "if start_date == '0000-00-00':\n",
    "    train_df = total_data[total_data.date.apply(str)<'2018-05-01']\n",
    "else:\n",
    "    train_df = total_data[(total_data.date.apply(str)<valid_date) \\\n",
    "            & (total_data.date.apply(str)>=start_date)]\n",
    "\n",
    "train_df = train_df.sample(frac=1).reset_index(drop=True)\n",
    "valid_df = total_data[total_data.date.apply(str)>=valid_date]\n",
    "\n",
    "print('train data:', len(train_df))\n",
    "print('test data:', len(valid_df))\n",
    "\n",
    "del total_data"
   ]
  },
  {
   "cell_type": "code",
   "execution_count": 7,
   "metadata": {},
   "outputs": [],
   "source": [
    "class fcmodel(object):\n",
    "    def __init__(self):\n",
    "        self.bs = 100\n",
    "        self.em_dim = 512\n",
    "        self.beta = 1e-5\n",
    "        self.fc_dim = 128\n",
    "        self.lr = 1e-4\n",
    "        self.batch_x = tf.placeholder(tf.float32, [None, self.em_dim])\n",
    "        self.batch_y = tf.placeholder(tf.float32, [None, 1])\n",
    "        self.create_model()\n",
    "    \n",
    "    def create_model(self):\n",
    "        # size : (bs, 512)\n",
    "        batch_x = self.batch_x\n",
    "        batch_y = self.batch_y\n",
    "        with tf.variable_scope('CNN', reuse=tf.AUTO_REUSE):\n",
    "            W1 = tf.get_variable('weight-1', [self.em_dim, self.fc_dim], dtype=tf.float32)\n",
    "            b1 = tf.get_variable('bias-1', [self.fc_dim], dtype=tf.float32)\n",
    "            W2 = tf.get_variable('weight-2', [self.fc_dim, 1], dtype=tf.float32)\n",
    "            b2 = tf.get_variable('bias-2', [1], dtype=tf.float32)\n",
    "        \n",
    "        print('x shape:', batch_x.shape)\n",
    "        h = tf.matmul(batch_x, W1) + b1\n",
    "        y = tf.matmul(h, W2) + b2\n",
    "        \n",
    "        loss = tf.reduce_mean(tf.nn.softmax_cross_entropy_with_logits(labels=batch_y, logits=y))\n",
    "        regularizer = tf.nn.l2_loss(W1) + tf.nn.l2_loss(W2)\n",
    "        self.regul_loss = self.beta * regularizer\n",
    "        self.loss = loss + self.regul_loss\n",
    "        \n",
    "        with tf.variable_scope('CNN', reuse=tf.AUTO_REUSE):\n",
    "            train_op = tf.train.AdamOptimizer(self.lr).minimize(self.loss)\n",
    "        \n",
    "        self.train_op = train_op #= tf.train.AdamOptimizer(self.learning_rate).minimize(loss)\n",
    "        self.labeling_test = tf.argmax(y,1)\n",
    "        correct_prediction = tf.equal(tf.argmax(y,1),tf.argmax(batch_y,1))\n",
    "        self.accur = accur = tf.reduce_mean(tf.cast(correct_prediction, tf.float32))\n"
   ]
  },
  {
   "cell_type": "code",
   "execution_count": 8,
   "metadata": {},
   "outputs": [],
   "source": [
    "embed = hub.Module('https://tfhub.dev/google/universal-sentence-encoder/1')\n",
    "\n",
    "def embedding(sentence_list):\n",
    "    with tf.device(\"/cpu:0\"):\n",
    "        return embed(sentence_list)"
   ]
  },
  {
   "cell_type": "code",
   "execution_count": 9,
   "metadata": {},
   "outputs": [],
   "source": [
    "fraction = 0.5\n",
    "sess = tf.Session(config=tf.ConfigProto(\n",
    "        #gpu_options=tf.GPUOptions(per_process_gpu_memory_fraction=fraction),\n",
    "        gpu_options=tf.GPUOptions(allow_growth=True),\n",
    "        log_device_placement=True))\n"
   ]
  },
  {
   "cell_type": "code",
   "execution_count": 10,
   "metadata": {},
   "outputs": [
    {
     "name": "stdout",
     "output_type": "stream",
     "text": [
      "x shape: (?, 512)\n",
      "WARNING:tensorflow:From <ipython-input-7-507f2cebd11e>:26: softmax_cross_entropy_with_logits (from tensorflow.python.ops.nn_ops) is deprecated and will be removed in a future version.\n",
      "Instructions for updating:\n",
      "\n",
      "Future major versions of TensorFlow will allow gradients to flow\n",
      "into the labels input on backprop by default.\n",
      "\n",
      "See @{tf.nn.softmax_cross_entropy_with_logits_v2}.\n",
      "\n"
     ]
    }
   ],
   "source": [
    "model = fcmodel()\n",
    "sess.run(tf.global_variables_initializer())\n",
    "sess.run(tf.tables_initializer())"
   ]
  },
  {
   "cell_type": "code",
   "execution_count": 11,
   "metadata": {},
   "outputs": [],
   "source": [
    "def evaluate_by_top_score(df, pred, ratio_pred=0.1):\n",
    "    date_list = pd.unique(date)\n",
    "\n",
    "    df['pred_label'] = np.zeros(len(df), dtype=np.int32)\n",
    "    top_pred = []\n",
    "\n",
    "    for day in date_list:\n",
    "        df_by_date = df[df['date'] == day]\n",
    "        topk_pred = int(ratio_pred * len(df_by_date))\n",
    "        top_pred.extend(df_by_date.pred.nlargest(topk_pred).index)\n",
    "\n",
    "    df['pred_label'][top_pred] = 1 \n",
    "    cross = pd.crosstab(df['label'], df['pred_label'], rownames=[\"Actual\"], \\\n",
    "            colnames=[\"Predicted\"])\n",
    "    recall = cross[1][1] / (cross[1][1] + cross[0][1])\n",
    "    print(cross)\n",
    "\n",
    "    return recall \n"
   ]
  },
  {
   "cell_type": "code",
   "execution_count": null,
   "metadata": {
    "scrolled": false
   },
   "outputs": [
    {
     "name": "stdout",
     "output_type": "stream",
     "text": [
      "0\n",
      "     0\n",
      "     1\n",
      "     2\n",
      "     3\n",
      "     4\n",
      "     5\n",
      "     6\n",
      "     7\n",
      "     8\n",
      "     9\n",
      "     10\n",
      "     11\n",
      "     12\n",
      "     13\n"
     ]
    }
   ],
   "source": [
    "ne = 100\n",
    "num_steps = 100\n",
    "bs = model.bs # 100\n",
    "\n",
    "df_0 = train_df[train_df['label']==0]\n",
    "df_1 = train_df[train_df['label']==1]\n",
    "\n",
    "#training\n",
    "for epoch in range(ne):\n",
    "    print(epoch)\n",
    "    avg_accur = 0.0\n",
    "    for step in range(num_steps):\n",
    "        print('    ', step)\n",
    "        batch_df_0 = df_0.sample(n=bs//2, replace=True)\n",
    "        batch_df_1 = df_1.sample(n=bs - bs//2, replace=True)\n",
    "        batch_df = pd.concat([batch_df_0, batch_df_1])\n",
    "        x = sess.run(embedding(list(batch_df['title'])))\n",
    "        #x = tf.reshape(x, [bs, 512])\n",
    "        y = np.array(list(batch_df['label'])).reshape([-1,1])\n",
    "        loss, accur, _, label = sess.run([model.loss, model.accur, model.train_op, model.labeling_test], \\\n",
    "                                    feed_dict={model.batch_x: x, model.batch_y: y})\n",
    "        avg_accur += accur\n",
    "    avg_accur /= num_steps\n",
    "    print('Training accuracy:', avg_accur)\n",
    "    \n",
    "    x = sess.run(embedding(valid_df['title']))\n",
    "    #y = valid_df['label']\n",
    "    y = np.array(list(valid_df['label'])).reshape([-1,1])\n",
    "    pred = sess.run([model.labeling_test], feed_dict={model.batch_x: x})\n",
    "    evaluate_by_top_score(valid_df, pred)\n",
    "    "
   ]
  },
  {
   "cell_type": "code",
   "execution_count": null,
   "metadata": {},
   "outputs": [],
   "source": []
  }
 ],
 "metadata": {
  "kernelspec": {
   "display_name": "Python 3",
   "language": "python",
   "name": "python3"
  },
  "language_info": {
   "codemirror_mode": {
    "name": "ipython",
    "version": 3
   },
   "file_extension": ".py",
   "mimetype": "text/x-python",
   "name": "python",
   "nbconvert_exporter": "python",
   "pygments_lexer": "ipython3",
   "version": "3.6.5"
  }
 },
 "nbformat": 4,
 "nbformat_minor": 2
}
