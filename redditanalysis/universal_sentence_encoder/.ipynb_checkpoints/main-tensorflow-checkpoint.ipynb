{
 "cells": [
  {
   "cell_type": "code",
   "execution_count": 1,
   "metadata": {},
   "outputs": [
    {
     "name": "stderr",
     "output_type": "stream",
     "text": [
      "/home/qara/anaconda3/lib/python3.6/site-packages/h5py/__init__.py:36: FutureWarning: Conversion of the second argument of issubdtype from `float` to `np.floating` is deprecated. In future, it will be treated as `np.float64 == np.dtype(float).type`.\n",
      "  from ._conv import register_converters as _register_converters\n"
     ]
    }
   ],
   "source": [
    "import datetime\n",
    "import numpy as np\n",
    "import pandas as pd\n",
    "import pickle\n",
    "\n",
    "import tensorflow as tf\n",
    "import tensorflow_hub as hub\n",
    "from pymongo import MongoClient\n",
    "from sklearn.metrics.pairwise import cosine_similarity\n",
    "\n",
    "tf.logging.set_verbosity(0)"
   ]
  },
  {
   "cell_type": "code",
   "execution_count": 2,
   "metadata": {},
   "outputs": [],
   "source": [
    "start_date = '2018-04-01'\n",
    "valid_date = '2018-05-01'"
   ]
  },
  {
   "cell_type": "code",
   "execution_count": 3,
   "metadata": {},
   "outputs": [],
   "source": [
    "def load_obj(name):\n",
    "    with open('obj/' + name + '.pkl', 'rb') as f:\n",
    "        return pickle.load(f)\n",
    "\n",
    "def save_obj(obj, name):\n",
    "    with open('obj/' + name + '.pkl', 'wb') as f:\n",
    "        pickle.dump(obj, f, pickle.HIGHEST_PROTOCOL)\n"
   ]
  },
  {
   "cell_type": "code",
   "execution_count": 4,
   "metadata": {},
   "outputs": [],
   "source": [
    "def labeling_data(ratio):\n",
    "    print('labeling data')\n",
    "    df = load_obj('total_data')\n",
    "    date_list = pd.unique(df['date'])\n",
    "\n",
    "    df['label'] = np.zeros(len(df), dtype=np.int32)\n",
    "    top_score = []\n",
    "\n",
    "    for day in date_list:\n",
    "        df_by_date = df[df['date'] == day]\n",
    "        topk = int(ratio * len(df_by_date))\n",
    "        top_score.extend(df_by_date.score.nlargest(topk).index)\n",
    "\n",
    "    df['label'][top_score] = 1 \n",
    "\n",
    "    save_obj(df, 'total_data')\n",
    "    del df\n",
    "\n",
    "#labeling_data(0.1)"
   ]
  },
  {
   "cell_type": "code",
   "execution_count": 5,
   "metadata": {},
   "outputs": [
    {
     "name": "stdout",
     "output_type": "stream",
     "text": [
      "total data: 1370234\n"
     ]
    }
   ],
   "source": [
    "total_data = load_obj('total_data')\n",
    "print('total data:', len(total_data))"
   ]
  },
  {
   "cell_type": "code",
   "execution_count": 6,
   "metadata": {},
   "outputs": [
    {
     "name": "stdout",
     "output_type": "stream",
     "text": [
      "train data: 21767\n",
      "test data: 21862\n"
     ]
    }
   ],
   "source": [
    "if start_date == '0000-00-00':\n",
    "    train_df = total_data[total_data.date.apply(str)<'2018-05-01']\n",
    "else:\n",
    "    train_df = total_data[(total_data.date.apply(str)<valid_date) \\\n",
    "            & (total_data.date.apply(str)>=start_date)]\n",
    "\n",
    "train_df = train_df.sample(frac=1).reset_index(drop=True)\n",
    "valid_df = total_data[total_data.date.apply(str)>=valid_date]\n",
    "\n",
    "print('train data:', len(train_df))\n",
    "print('test data:', len(valid_df))\n",
    "\n",
    "del total_data"
   ]
  },
  {
   "cell_type": "code",
   "execution_count": 7,
   "metadata": {},
   "outputs": [],
   "source": [
    "class fcmodel(object):\n",
    "    def __init__(self):\n",
    "        self.bs = 100\n",
    "        self.em_dim = 512\n",
    "        self.beta = 1e-5\n",
    "        self.fc_dim = 128\n",
    "        self.lr = 1e-4\n",
    "        self.batch_x = tf.placeholder(tf.float32, [None, self.em_dim])\n",
    "        self.batch_y = tf.placeholder(tf.float32, [None, 1])\n",
    "        self.create_model()\n",
    "    \n",
    "    def create_model(self):\n",
    "        # size : (bs, 512)\n",
    "        batch_x = self.batch_x\n",
    "        batch_y = self.batch_y\n",
    "        with tf.variable_scope('CNN', reuse=tf.AUTO_REUSE):\n",
    "            W1 = tf.get_variable('weight-1', [self.em_dim, self.fc_dim], dtype=tf.float32)\n",
    "            b1 = tf.get_variable('bias-1', [self.fc_dim], dtype=tf.float32)\n",
    "            W2 = tf.get_variable('weight-2', [self.fc_dim, 1], dtype=tf.float32)\n",
    "            b2 = tf.get_variable('bias-2', [1], dtype=tf.float32)\n",
    "        \n",
    "        print('x shape:', batch_x.shape)\n",
    "        h = tf.matmul(batch_x, W1) + b1\n",
    "        h = tf.nn.tanh(h)\n",
    "        h = tf.matmul(h, W2) + b2\n",
    "        y = tf.nn.sigmoid(h)\n",
    "        \n",
    "        loss = tf.reduce_mean(tf.nn.softmax_cross_entropy_with_logits(labels=batch_y, logits=y))\n",
    "        regularizer = tf.nn.l2_loss(W1) + tf.nn.l2_loss(W2)\n",
    "        self.regul_loss = self.beta * regularizer\n",
    "        self.loss = loss + self.regul_loss\n",
    "        \n",
    "        with tf.variable_scope('CNN', reuse=tf.AUTO_REUSE):\n",
    "            train_op = tf.train.AdamOptimizer(self.lr).minimize(self.loss)\n",
    "        \n",
    "        self.train_op = train_op #= tf.train.AdamOptimizer(self.learning_rate).minimize(loss)\n",
    "        self.predict = y\n",
    "        correct_prediction = tf.equal(tf.round(self.predict), batch_y)\n",
    "        self.accur = accur = tf.reduce_mean(tf.cast(correct_prediction, tf.float32))\n"
   ]
  },
  {
   "cell_type": "code",
   "execution_count": 9,
   "metadata": {},
   "outputs": [],
   "source": [
    "fraction = 0.5\n",
    "sess = tf.Session(config=tf.ConfigProto(\n",
    "        #gpu_options=tf.GPUOptions(per_process_gpu_memory_fraction=fraction),\n",
    "        gpu_options=tf.GPUOptions(allow_growth=True),\n",
    "        log_device_placement=True))\n"
   ]
  },
  {
   "cell_type": "code",
   "execution_count": 6,
   "metadata": {},
   "outputs": [],
   "source": [
    "embed = hub.Module('https://tfhub.dev/google/universal-sentence-encoder/1')\n",
    "\n",
    "def embedding(sentence_list):\n",
    "    with tf.device(\"/cpu:0\"):\n",
    "        return embed(sentence_list)"
   ]
  },
  {
   "cell_type": "code",
   "execution_count": 10,
   "metadata": {},
   "outputs": [
    {
     "name": "stdout",
     "output_type": "stream",
     "text": [
      "x shape: (?, 512)\n",
      "WARNING:tensorflow:From <ipython-input-7-ea8703d4d0a7>:28: softmax_cross_entropy_with_logits (from tensorflow.python.ops.nn_ops) is deprecated and will be removed in a future version.\n",
      "Instructions for updating:\n",
      "\n",
      "Future major versions of TensorFlow will allow gradients to flow\n",
      "into the labels input on backprop by default.\n",
      "\n",
      "See @{tf.nn.softmax_cross_entropy_with_logits_v2}.\n",
      "\n"
     ]
    }
   ],
   "source": [
    "model = fcmodel()\n",
    "sess.run(tf.global_variables_initializer())\n",
    "sess.run(tf.tables_initializer())"
   ]
  },
  {
   "cell_type": "code",
   "execution_count": 11,
   "metadata": {},
   "outputs": [],
   "source": [
    "def evaluate_by_top_score(df, pred, ratio_pred=0.1):\n",
    "    date_list = pd.unique(list(df['date']))\n",
    "    df['pred'] = np.zeros(len(df), dtype=np.float32)\n",
    "    df['pred'] = pred\n",
    "    \n",
    "    df['pred_label'] = np.zeros(len(df), dtype=np.int32)\n",
    "    top_pred = []\n",
    "\n",
    "    for day in date_list:\n",
    "        df_by_date = df[df['date'] == day]\n",
    "        topk_pred = int(ratio_pred * len(df_by_date))\n",
    "        top_pred.extend(df_by_date.pred.nlargest(topk_pred).index)\n",
    "\n",
    "    df['pred_label'][top_pred] = 1 \n",
    "    cross = pd.crosstab(df['label'], df['pred_label'], rownames=[\"Actual\"], \\\n",
    "            colnames=[\"Predicted\"])\n",
    "    recall = cross[1][1] / (cross[1][1] + cross[0][1])\n",
    "    print(cross)\n",
    "\n",
    "    return recall \n"
   ]
  },
  {
   "cell_type": "code",
   "execution_count": 12,
   "metadata": {
    "scrolled": false
   },
   "outputs": [
    {
     "name": "stdout",
     "output_type": "stream",
     "text": [
      "0\n",
      "     0\n",
      "     1\n",
      "     2\n",
      "     3\n",
      "     4\n",
      "Training accuracy: 0.5\n"
     ]
    },
    {
     "name": "stderr",
     "output_type": "stream",
     "text": [
      "/home/qara/anaconda3/lib/python3.6/site-packages/ipykernel_launcher.py:14: SettingWithCopyWarning: \n",
      "A value is trying to be set on a copy of a slice from a DataFrame\n",
      "\n",
      "See the caveats in the documentation: http://pandas.pydata.org/pandas-docs/stable/indexing.html#indexing-view-versus-copy\n",
      "  \n"
     ]
    },
    {
     "name": "stdout",
     "output_type": "stream",
     "text": [
      "Predicted      0     1\n",
      "Actual                \n",
      "0          17698  1995\n",
      "1           1995   174\n",
      "1\n",
      "     0\n",
      "     1\n",
      "     2\n",
      "     3\n",
      "     4\n",
      "Training accuracy: 0.5\n",
      "Predicted      0     1\n",
      "Actual                \n",
      "0          17660  2033\n",
      "1           2033   136\n",
      "2\n",
      "     0\n",
      "     1\n",
      "     2\n",
      "     3\n"
     ]
    },
    {
     "ename": "KeyboardInterrupt",
     "evalue": "",
     "output_type": "error",
     "traceback": [
      "\u001b[0;31m---------------------------------------------------------------------------\u001b[0m",
      "\u001b[0;31mKeyboardInterrupt\u001b[0m                         Traceback (most recent call last)",
      "\u001b[0;32m<ipython-input-12-a7c4e3766e51>\u001b[0m in \u001b[0;36m<module>\u001b[0;34m()\u001b[0m\n\u001b[1;32m     18\u001b[0m         \u001b[0;32mdel\u001b[0m \u001b[0mbatch_df_0\u001b[0m\u001b[0;34m,\u001b[0m \u001b[0mbatch_df_1\u001b[0m\u001b[0;34m\u001b[0m\u001b[0m\n\u001b[1;32m     19\u001b[0m \u001b[0;34m\u001b[0m\u001b[0m\n\u001b[0;32m---> 20\u001b[0;31m         \u001b[0mx\u001b[0m \u001b[0;34m=\u001b[0m \u001b[0msess\u001b[0m\u001b[0;34m.\u001b[0m\u001b[0mrun\u001b[0m\u001b[0;34m(\u001b[0m\u001b[0membedding\u001b[0m\u001b[0;34m(\u001b[0m\u001b[0mlist\u001b[0m\u001b[0;34m(\u001b[0m\u001b[0mbatch_df\u001b[0m\u001b[0;34m[\u001b[0m\u001b[0;34m'title'\u001b[0m\u001b[0;34m]\u001b[0m\u001b[0;34m)\u001b[0m\u001b[0;34m)\u001b[0m\u001b[0;34m)\u001b[0m\u001b[0;34m\u001b[0m\u001b[0m\n\u001b[0m\u001b[1;32m     21\u001b[0m         \u001b[0my\u001b[0m \u001b[0;34m=\u001b[0m \u001b[0mnp\u001b[0m\u001b[0;34m.\u001b[0m\u001b[0marray\u001b[0m\u001b[0;34m(\u001b[0m\u001b[0mlist\u001b[0m\u001b[0;34m(\u001b[0m\u001b[0mbatch_df\u001b[0m\u001b[0;34m[\u001b[0m\u001b[0;34m'label'\u001b[0m\u001b[0;34m]\u001b[0m\u001b[0;34m)\u001b[0m\u001b[0;34m)\u001b[0m\u001b[0;34m.\u001b[0m\u001b[0mreshape\u001b[0m\u001b[0;34m(\u001b[0m\u001b[0;34m[\u001b[0m\u001b[0;34m-\u001b[0m\u001b[0;36m1\u001b[0m\u001b[0;34m,\u001b[0m\u001b[0;36m1\u001b[0m\u001b[0;34m]\u001b[0m\u001b[0;34m)\u001b[0m\u001b[0;34m\u001b[0m\u001b[0m\n\u001b[1;32m     22\u001b[0m         \u001b[0;32mdel\u001b[0m \u001b[0mbatch_df\u001b[0m\u001b[0;34m\u001b[0m\u001b[0m\n",
      "\u001b[0;32m~/anaconda3/lib/python3.6/site-packages/tensorflow/python/client/session.py\u001b[0m in \u001b[0;36mrun\u001b[0;34m(self, fetches, feed_dict, options, run_metadata)\u001b[0m\n\u001b[1;32m    898\u001b[0m     \u001b[0;32mtry\u001b[0m\u001b[0;34m:\u001b[0m\u001b[0;34m\u001b[0m\u001b[0m\n\u001b[1;32m    899\u001b[0m       result = self._run(None, fetches, feed_dict, options_ptr,\n\u001b[0;32m--> 900\u001b[0;31m                          run_metadata_ptr)\n\u001b[0m\u001b[1;32m    901\u001b[0m       \u001b[0;32mif\u001b[0m \u001b[0mrun_metadata\u001b[0m\u001b[0;34m:\u001b[0m\u001b[0;34m\u001b[0m\u001b[0m\n\u001b[1;32m    902\u001b[0m         \u001b[0mproto_data\u001b[0m \u001b[0;34m=\u001b[0m \u001b[0mtf_session\u001b[0m\u001b[0;34m.\u001b[0m\u001b[0mTF_GetBuffer\u001b[0m\u001b[0;34m(\u001b[0m\u001b[0mrun_metadata_ptr\u001b[0m\u001b[0;34m)\u001b[0m\u001b[0;34m\u001b[0m\u001b[0m\n",
      "\u001b[0;32m~/anaconda3/lib/python3.6/site-packages/tensorflow/python/client/session.py\u001b[0m in \u001b[0;36m_run\u001b[0;34m(self, handle, fetches, feed_dict, options, run_metadata)\u001b[0m\n\u001b[1;32m   1133\u001b[0m     \u001b[0;32mif\u001b[0m \u001b[0mfinal_fetches\u001b[0m \u001b[0;32mor\u001b[0m \u001b[0mfinal_targets\u001b[0m \u001b[0;32mor\u001b[0m \u001b[0;34m(\u001b[0m\u001b[0mhandle\u001b[0m \u001b[0;32mand\u001b[0m \u001b[0mfeed_dict_tensor\u001b[0m\u001b[0;34m)\u001b[0m\u001b[0;34m:\u001b[0m\u001b[0;34m\u001b[0m\u001b[0m\n\u001b[1;32m   1134\u001b[0m       results = self._do_run(handle, final_targets, final_fetches,\n\u001b[0;32m-> 1135\u001b[0;31m                              feed_dict_tensor, options, run_metadata)\n\u001b[0m\u001b[1;32m   1136\u001b[0m     \u001b[0;32melse\u001b[0m\u001b[0;34m:\u001b[0m\u001b[0;34m\u001b[0m\u001b[0m\n\u001b[1;32m   1137\u001b[0m       \u001b[0mresults\u001b[0m \u001b[0;34m=\u001b[0m \u001b[0;34m[\u001b[0m\u001b[0;34m]\u001b[0m\u001b[0;34m\u001b[0m\u001b[0m\n",
      "\u001b[0;32m~/anaconda3/lib/python3.6/site-packages/tensorflow/python/client/session.py\u001b[0m in \u001b[0;36m_do_run\u001b[0;34m(self, handle, target_list, fetch_list, feed_dict, options, run_metadata)\u001b[0m\n\u001b[1;32m   1314\u001b[0m     \u001b[0;32mif\u001b[0m \u001b[0mhandle\u001b[0m \u001b[0;32mis\u001b[0m \u001b[0;32mNone\u001b[0m\u001b[0;34m:\u001b[0m\u001b[0;34m\u001b[0m\u001b[0m\n\u001b[1;32m   1315\u001b[0m       return self._do_call(_run_fn, feeds, fetches, targets, options,\n\u001b[0;32m-> 1316\u001b[0;31m                            run_metadata)\n\u001b[0m\u001b[1;32m   1317\u001b[0m     \u001b[0;32melse\u001b[0m\u001b[0;34m:\u001b[0m\u001b[0;34m\u001b[0m\u001b[0m\n\u001b[1;32m   1318\u001b[0m       \u001b[0;32mreturn\u001b[0m \u001b[0mself\u001b[0m\u001b[0;34m.\u001b[0m\u001b[0m_do_call\u001b[0m\u001b[0;34m(\u001b[0m\u001b[0m_prun_fn\u001b[0m\u001b[0;34m,\u001b[0m \u001b[0mhandle\u001b[0m\u001b[0;34m,\u001b[0m \u001b[0mfeeds\u001b[0m\u001b[0;34m,\u001b[0m \u001b[0mfetches\u001b[0m\u001b[0;34m)\u001b[0m\u001b[0;34m\u001b[0m\u001b[0m\n",
      "\u001b[0;32m~/anaconda3/lib/python3.6/site-packages/tensorflow/python/client/session.py\u001b[0m in \u001b[0;36m_do_call\u001b[0;34m(self, fn, *args)\u001b[0m\n\u001b[1;32m   1320\u001b[0m   \u001b[0;32mdef\u001b[0m \u001b[0m_do_call\u001b[0m\u001b[0;34m(\u001b[0m\u001b[0mself\u001b[0m\u001b[0;34m,\u001b[0m \u001b[0mfn\u001b[0m\u001b[0;34m,\u001b[0m \u001b[0;34m*\u001b[0m\u001b[0margs\u001b[0m\u001b[0;34m)\u001b[0m\u001b[0;34m:\u001b[0m\u001b[0;34m\u001b[0m\u001b[0m\n\u001b[1;32m   1321\u001b[0m     \u001b[0;32mtry\u001b[0m\u001b[0;34m:\u001b[0m\u001b[0;34m\u001b[0m\u001b[0m\n\u001b[0;32m-> 1322\u001b[0;31m       \u001b[0;32mreturn\u001b[0m \u001b[0mfn\u001b[0m\u001b[0;34m(\u001b[0m\u001b[0;34m*\u001b[0m\u001b[0margs\u001b[0m\u001b[0;34m)\u001b[0m\u001b[0;34m\u001b[0m\u001b[0m\n\u001b[0m\u001b[1;32m   1323\u001b[0m     \u001b[0;32mexcept\u001b[0m \u001b[0merrors\u001b[0m\u001b[0;34m.\u001b[0m\u001b[0mOpError\u001b[0m \u001b[0;32mas\u001b[0m \u001b[0me\u001b[0m\u001b[0;34m:\u001b[0m\u001b[0;34m\u001b[0m\u001b[0m\n\u001b[1;32m   1324\u001b[0m       \u001b[0mmessage\u001b[0m \u001b[0;34m=\u001b[0m \u001b[0mcompat\u001b[0m\u001b[0;34m.\u001b[0m\u001b[0mas_text\u001b[0m\u001b[0;34m(\u001b[0m\u001b[0me\u001b[0m\u001b[0;34m.\u001b[0m\u001b[0mmessage\u001b[0m\u001b[0;34m)\u001b[0m\u001b[0;34m\u001b[0m\u001b[0m\n",
      "\u001b[0;32m~/anaconda3/lib/python3.6/site-packages/tensorflow/python/client/session.py\u001b[0m in \u001b[0;36m_run_fn\u001b[0;34m(feed_dict, fetch_list, target_list, options, run_metadata)\u001b[0m\n\u001b[1;32m   1305\u001b[0m       \u001b[0mself\u001b[0m\u001b[0;34m.\u001b[0m\u001b[0m_extend_graph\u001b[0m\u001b[0;34m(\u001b[0m\u001b[0;34m)\u001b[0m\u001b[0;34m\u001b[0m\u001b[0m\n\u001b[1;32m   1306\u001b[0m       return self._call_tf_sessionrun(\n\u001b[0;32m-> 1307\u001b[0;31m           options, feed_dict, fetch_list, target_list, run_metadata)\n\u001b[0m\u001b[1;32m   1308\u001b[0m \u001b[0;34m\u001b[0m\u001b[0m\n\u001b[1;32m   1309\u001b[0m     \u001b[0;32mdef\u001b[0m \u001b[0m_prun_fn\u001b[0m\u001b[0;34m(\u001b[0m\u001b[0mhandle\u001b[0m\u001b[0;34m,\u001b[0m \u001b[0mfeed_dict\u001b[0m\u001b[0;34m,\u001b[0m \u001b[0mfetch_list\u001b[0m\u001b[0;34m)\u001b[0m\u001b[0;34m:\u001b[0m\u001b[0;34m\u001b[0m\u001b[0m\n",
      "\u001b[0;32m~/anaconda3/lib/python3.6/site-packages/tensorflow/python/client/session.py\u001b[0m in \u001b[0;36m_call_tf_sessionrun\u001b[0;34m(self, options, feed_dict, fetch_list, target_list, run_metadata)\u001b[0m\n\u001b[1;32m   1407\u001b[0m       return tf_session.TF_SessionRun_wrapper(\n\u001b[1;32m   1408\u001b[0m           \u001b[0mself\u001b[0m\u001b[0;34m.\u001b[0m\u001b[0m_session\u001b[0m\u001b[0;34m,\u001b[0m \u001b[0moptions\u001b[0m\u001b[0;34m,\u001b[0m \u001b[0mfeed_dict\u001b[0m\u001b[0;34m,\u001b[0m \u001b[0mfetch_list\u001b[0m\u001b[0;34m,\u001b[0m \u001b[0mtarget_list\u001b[0m\u001b[0;34m,\u001b[0m\u001b[0;34m\u001b[0m\u001b[0m\n\u001b[0;32m-> 1409\u001b[0;31m           run_metadata)\n\u001b[0m\u001b[1;32m   1410\u001b[0m     \u001b[0;32melse\u001b[0m\u001b[0;34m:\u001b[0m\u001b[0;34m\u001b[0m\u001b[0m\n\u001b[1;32m   1411\u001b[0m       \u001b[0;32mwith\u001b[0m \u001b[0merrors\u001b[0m\u001b[0;34m.\u001b[0m\u001b[0mraise_exception_on_not_ok_status\u001b[0m\u001b[0;34m(\u001b[0m\u001b[0;34m)\u001b[0m \u001b[0;32mas\u001b[0m \u001b[0mstatus\u001b[0m\u001b[0;34m:\u001b[0m\u001b[0;34m\u001b[0m\u001b[0m\n",
      "\u001b[0;31mKeyboardInterrupt\u001b[0m: "
     ]
    }
   ],
   "source": [
    "ne = 100\n",
    "num_steps = 5\n",
    "bs = model.bs # 100\n",
    "\n",
    "df_0 = train_df[train_df['label']==0]\n",
    "df_1 = train_df[train_df['label']==1]\n",
    "del train_df\n",
    "\n",
    "#training\n",
    "for epoch in range(ne):\n",
    "    print(epoch)\n",
    "    avg_accur = 0.0\n",
    "    for step in range(num_steps):\n",
    "        print('    ', step)\n",
    "        batch_df_0 = df_0.sample(n=bs//2, replace=True)\n",
    "        batch_df_1 = df_1.sample(n=bs - bs//2, replace=True)\n",
    "        batch_df = pd.concat([batch_df_0, batch_df_1])\n",
    "        del batch_df_0, batch_df_1\n",
    "        \n",
    "        x = sess.run(embedding(list(batch_df['title'])))\n",
    "        y = np.array(list(batch_df['label'])).reshape([-1,1])\n",
    "        del batch_df\n",
    "        \n",
    "        loss, accur, _, pred = sess.run([model.loss, model.accur, model.train_op, model.predict], \\\n",
    "                                    feed_dict={model.batch_x: x, model.batch_y: y})\n",
    "        del x, y\n",
    "        avg_accur += accur\n",
    "    avg_accur /= num_steps\n",
    "    print('Training accuracy:', avg_accur)\n",
    "    \n",
    "    x = sess.run(embedding(list(valid_df['title'])))\n",
    "    #y = valid_df['label']\n",
    "    y = np.array(list(valid_df['label'])).reshape([-1,1])\n",
    "    pred = sess.run(model.predict, feed_dict={model.batch_x: x})\n",
    "    evaluate_by_top_score(valid_df, pred)\n",
    "    del x, y\n",
    "    "
   ]
  },
  {
   "cell_type": "code",
   "execution_count": null,
   "metadata": {},
   "outputs": [],
   "source": []
  }
 ],
 "metadata": {
  "kernelspec": {
   "display_name": "Python 3",
   "language": "python",
   "name": "python3"
  },
  "language_info": {
   "codemirror_mode": {
    "name": "ipython",
    "version": 3
   },
   "file_extension": ".py",
   "mimetype": "text/x-python",
   "name": "python",
   "nbconvert_exporter": "python",
   "pygments_lexer": "ipython3",
   "version": "3.6.5"
  }
 },
 "nbformat": 4,
 "nbformat_minor": 2
}
