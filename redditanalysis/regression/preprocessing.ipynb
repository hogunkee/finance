{
 "cells": [
  {
   "cell_type": "code",
   "execution_count": 1,
   "metadata": {},
   "outputs": [],
   "source": [
    "from data_loader import *"
   ]
  },
  {
   "cell_type": "code",
   "execution_count": 2,
   "metadata": {},
   "outputs": [],
   "source": [
    "#x = load_data()\n",
    "x = load_obj('data_1')"
   ]
  },
  {
   "cell_type": "code",
   "execution_count": 3,
   "metadata": {},
   "outputs": [],
   "source": [
    "y=x[:100]\n",
    "del x"
   ]
  },
  {
   "cell_type": "code",
   "execution_count": 7,
   "metadata": {},
   "outputs": [
    {
     "data": {
      "text/html": [
       "<div>\n",
       "<style scoped>\n",
       "    .dataframe tbody tr th:only-of-type {\n",
       "        vertical-align: middle;\n",
       "    }\n",
       "\n",
       "    .dataframe tbody tr th {\n",
       "        vertical-align: top;\n",
       "    }\n",
       "\n",
       "    .dataframe thead th {\n",
       "        text-align: right;\n",
       "    }\n",
       "</style>\n",
       "<table border=\"1\" class=\"dataframe\">\n",
       "  <thead>\n",
       "    <tr style=\"text-align: right;\">\n",
       "      <th></th>\n",
       "      <th>title</th>\n",
       "      <th>score</th>\n",
       "      <th>log_score</th>\n",
       "      <th>date</th>\n",
       "      <th>title_split</th>\n",
       "      <th>embed</th>\n",
       "    </tr>\n",
       "  </thead>\n",
       "  <tbody>\n",
       "    <tr>\n",
       "      <th>0</th>\n",
       "      <td>healthy skin for the new year</td>\n",
       "      <td>1</td>\n",
       "      <td>0.048771</td>\n",
       "      <td>2017-11-01</td>\n",
       "      <td>[healthy, skin, for, the, new, year]</td>\n",
       "      <td>[[0.0, 0.0, 0.0, 0.0, 0.0, 0.0, 0.0, 0.0, 0.0,...</td>\n",
       "    </tr>\n",
       "    <tr>\n",
       "      <th>1</th>\n",
       "      <td>president obama wants to give young leaders ar...</td>\n",
       "      <td>5</td>\n",
       "      <td>0.221199</td>\n",
       "      <td>2017-11-01</td>\n",
       "      <td>[president, obama, wants, to, give, young, lea...</td>\n",
       "      <td>[[0.0, 0.0, 0.0, 0.0, 0.0, 0.0, 0.0, 0.0, 0.0,...</td>\n",
       "    </tr>\n",
       "    <tr>\n",
       "      <th>2</th>\n",
       "      <td>new york terror attack truck crash in lower ma...</td>\n",
       "      <td>1</td>\n",
       "      <td>0.048771</td>\n",
       "      <td>2017-11-01</td>\n",
       "      <td>[new, york, terror, attack, truck, crash, in, ...</td>\n",
       "      <td>[[0.0, 0.0, 0.0, 0.0, 0.0, 0.0, 0.0, 0.0, 0.0,...</td>\n",
       "    </tr>\n",
       "    <tr>\n",
       "      <th>3</th>\n",
       "      <td>eu japan ask un to condemn n korea over rights...</td>\n",
       "      <td>7</td>\n",
       "      <td>0.295312</td>\n",
       "      <td>2017-11-01</td>\n",
       "      <td>[eu, japan, ask, un, to, condemn, n, korea, ov...</td>\n",
       "      <td>[[0.0, 0.0, 0.0, 0.0, 0.0, 0.0, 0.0, 0.0, 0.0,...</td>\n",
       "    </tr>\n",
       "    <tr>\n",
       "      <th>4</th>\n",
       "      <td>sell my miami house fast real estate solutions</td>\n",
       "      <td>1</td>\n",
       "      <td>0.048771</td>\n",
       "      <td>2017-11-01</td>\n",
       "      <td>[sell, my, miami, house, fast, real, estate, s...</td>\n",
       "      <td>[[0.0, 0.0, 0.0, 0.0, 0.0, 0.0, 0.0, 0.0, 0.0,...</td>\n",
       "    </tr>\n",
       "  </tbody>\n",
       "</table>\n",
       "</div>"
      ],
      "text/plain": [
       "                                               title  score  log_score  \\\n",
       "0                      healthy skin for the new year      1   0.048771   \n",
       "1  president obama wants to give young leaders ar...      5   0.221199   \n",
       "2  new york terror attack truck crash in lower ma...      1   0.048771   \n",
       "3  eu japan ask un to condemn n korea over rights...      7   0.295312   \n",
       "4     sell my miami house fast real estate solutions      1   0.048771   \n",
       "\n",
       "         date                                        title_split  \\\n",
       "0  2017-11-01               [healthy, skin, for, the, new, year]   \n",
       "1  2017-11-01  [president, obama, wants, to, give, young, lea...   \n",
       "2  2017-11-01  [new, york, terror, attack, truck, crash, in, ...   \n",
       "3  2017-11-01  [eu, japan, ask, un, to, condemn, n, korea, ov...   \n",
       "4  2017-11-01  [sell, my, miami, house, fast, real, estate, s...   \n",
       "\n",
       "                                               embed  \n",
       "0  [[0.0, 0.0, 0.0, 0.0, 0.0, 0.0, 0.0, 0.0, 0.0,...  \n",
       "1  [[0.0, 0.0, 0.0, 0.0, 0.0, 0.0, 0.0, 0.0, 0.0,...  \n",
       "2  [[0.0, 0.0, 0.0, 0.0, 0.0, 0.0, 0.0, 0.0, 0.0,...  \n",
       "3  [[0.0, 0.0, 0.0, 0.0, 0.0, 0.0, 0.0, 0.0, 0.0,...  \n",
       "4  [[0.0, 0.0, 0.0, 0.0, 0.0, 0.0, 0.0, 0.0, 0.0,...  "
      ]
     },
     "execution_count": 7,
     "metadata": {},
     "output_type": "execute_result"
    }
   ],
   "source": [
    "y['log_score'] = 1-np.power(np.e, -0.05*y['score'])\n",
    "y.head()"
   ]
  },
  {
   "cell_type": "code",
   "execution_count": 5,
   "metadata": {},
   "outputs": [],
   "source": [
    "def splitt(title):\n",
    "    return title.split()"
   ]
  },
  {
   "cell_type": "code",
   "execution_count": 6,
   "metadata": {},
   "outputs": [],
   "source": [
    "x['title_split'] = x['title'].apply(splitt)\n",
    "title_word_length = x['title'].apply(splitt).apply(len)"
   ]
  },
  {
   "cell_type": "code",
   "execution_count": 7,
   "metadata": {},
   "outputs": [
    {
     "name": "stdout",
     "output_type": "stream",
     "text": [
      "3\n",
      "62\n",
      "12.041228333797475\n"
     ]
    }
   ],
   "source": [
    "print(np.min(title_word_length))\n",
    "print(np.max(title_word_length))\n",
    "print(np.mean(title_word_length))"
   ]
  },
  {
   "cell_type": "code",
   "execution_count": 1,
   "metadata": {},
   "outputs": [],
   "source": [
    "from w2v import fasttext"
   ]
  },
  {
   "cell_type": "code",
   "execution_count": 2,
   "metadata": {},
   "outputs": [],
   "source": [
    "model = fasttext()"
   ]
  },
  {
   "cell_type": "code",
   "execution_count": 5,
   "metadata": {},
   "outputs": [
    {
     "data": {
      "text/plain": [
       "['__class__',\n",
       " '__contains__',\n",
       " '__delattr__',\n",
       " '__dict__',\n",
       " '__dir__',\n",
       " '__doc__',\n",
       " '__eq__',\n",
       " '__format__',\n",
       " '__ge__',\n",
       " '__getattribute__',\n",
       " '__getitem__',\n",
       " '__gt__',\n",
       " '__hash__',\n",
       " '__ignoreds',\n",
       " '__init__',\n",
       " '__init_subclass__',\n",
       " '__le__',\n",
       " '__lt__',\n",
       " '__module__',\n",
       " '__ne__',\n",
       " '__new__',\n",
       " '__numpys',\n",
       " '__recursive_saveloads',\n",
       " '__reduce__',\n",
       " '__reduce_ex__',\n",
       " '__repr__',\n",
       " '__scipys',\n",
       " '__setattr__',\n",
       " '__setitem__',\n",
       " '__sizeof__',\n",
       " '__str__',\n",
       " '__subclasshook__',\n",
       " '__weakref__',\n",
       " '_adapt_by_suffix',\n",
       " '_load_specials',\n",
       " '_log_evaluate_word_analogies',\n",
       " '_save_specials',\n",
       " '_smart_save',\n",
       " 'accuracy',\n",
       " 'add',\n",
       " 'bucket',\n",
       " 'buckets_word',\n",
       " 'closer_than',\n",
       " 'cosine_similarities',\n",
       " 'distance',\n",
       " 'distances',\n",
       " 'doesnt_match',\n",
       " 'evaluate_word_analogies',\n",
       " 'evaluate_word_pairs',\n",
       " 'get_vector',\n",
       " 'hash2index',\n",
       " 'index2entity',\n",
       " 'index2word',\n",
       " 'init_sims',\n",
       " 'load',\n",
       " 'log_accuracy',\n",
       " 'log_evaluate_word_pairs',\n",
       " 'max_n',\n",
       " 'min_n',\n",
       " 'most_similar',\n",
       " 'most_similar_cosmul',\n",
       " 'most_similar_to_given',\n",
       " 'n_similarity',\n",
       " 'num_ngram_vectors',\n",
       " 'rank',\n",
       " 'save',\n",
       " 'save_word2vec_format',\n",
       " 'similar_by_vector',\n",
       " 'similar_by_word',\n",
       " 'similarity',\n",
       " 'similarity_matrix',\n",
       " 'syn0',\n",
       " 'syn0_ngrams',\n",
       " 'syn0_ngrams_norm',\n",
       " 'syn0_vocab',\n",
       " 'syn0_vocab_norm',\n",
       " 'syn0norm',\n",
       " 'vector_size',\n",
       " 'vectors',\n",
       " 'vectors_ngrams',\n",
       " 'vectors_ngrams_norm',\n",
       " 'vectors_norm',\n",
       " 'vectors_vocab',\n",
       " 'vectors_vocab_norm',\n",
       " 'vocab',\n",
       " 'wmdistance',\n",
       " 'word_vec',\n",
       " 'words_closer_than',\n",
       " 'wv']"
      ]
     },
     "execution_count": 5,
     "metadata": {},
     "output_type": "execute_result"
    }
   ],
   "source": [
    "dir(model.wv)"
   ]
  },
  {
   "cell_type": "code",
   "execution_count": 11,
   "metadata": {},
   "outputs": [
    {
     "data": {
      "text/plain": [
       "array([ 0.2597472 ,  0.50311494, -0.37512237,  3.3779542 ,  0.9470075 ,\n",
       "        0.44530103,  0.85454667,  1.5137467 , -1.1614971 ,  2.013939  ,\n",
       "       -0.19657542, -0.8077486 ,  0.42326045, -1.1501839 , -1.1502134 ,\n",
       "       -0.5163055 , -0.16390766, -0.41890794, -0.11942653,  0.66147625,\n",
       "       -1.3934885 ,  1.0550752 , -0.04722011,  0.02393275,  1.0570188 ,\n",
       "       -1.3905874 , -0.37090784, -1.0551704 , -0.11040276, -1.5476832 ,\n",
       "        1.0913044 , -0.36079666,  0.09789955, -0.3428137 ,  1.0030571 ,\n",
       "        2.0743706 ,  0.29194713,  0.9751545 ,  0.1992928 ,  1.3264006 ,\n",
       "        2.1416368 , -0.797418  , -0.31785175,  0.90390664, -0.14469418,\n",
       "       -0.40269604, -0.2699296 , -0.49629268,  0.72996986,  1.7858784 ,\n",
       "       -0.7451005 , -0.34765545,  1.3429623 , -0.9780482 , -1.1051856 ,\n",
       "       -0.30550486, -0.8405544 ,  0.9514343 ,  0.924096  , -1.4075955 ,\n",
       "       -0.93487334, -1.1822606 , -0.11189847, -1.3016529 ,  0.4815256 ,\n",
       "        0.39193243, -2.9895117 , -0.26521707,  0.42164588, -1.3666178 ,\n",
       "       -1.0312483 , -2.6816182 , -1.3840454 ,  1.7022192 ,  0.8058611 ,\n",
       "       -0.3835937 ,  1.1838374 , -0.39430952, -1.587364  ,  0.35957694,\n",
       "       -1.8768108 , -0.25902173, -0.8047305 , -1.32976   ,  0.06104343,\n",
       "        1.0225285 , -2.058657  , -2.4591289 ,  1.953002  ,  0.5807653 ,\n",
       "       -0.61200416,  1.4915403 ,  0.99763733, -0.91046876,  0.30037275,\n",
       "        0.33762893,  2.0341399 ,  0.02666216, -0.04439208, -1.1129222 ],\n",
       "      dtype=float32)"
      ]
     },
     "execution_count": 11,
     "metadata": {},
     "output_type": "execute_result"
    }
   ],
   "source": []
  },
  {
   "cell_type": "code",
   "execution_count": 11,
   "metadata": {
    "scrolled": true
   },
   "outputs": [
    {
     "name": "stderr",
     "output_type": "stream",
     "text": [
      "/home/qara/anaconda3/lib/python3.6/site-packages/ipykernel_launcher.py:2: DeprecationWarning: Call to deprecated `__getitem__` (Method will be removed in 4.0.0, use self.wv.__getitem__() instead).\n",
      "  \n"
     ]
    },
    {
     "data": {
      "text/plain": [
       "array([ 0.47198895, -0.8864994 , -0.15044719,  3.217712  ,  0.00719748,\n",
       "       -0.16683146,  2.467169  ,  0.7769951 , -1.5274677 ,  3.1067438 ,\n",
       "       -1.0274117 , -1.8003892 ,  0.8586595 , -1.3413031 , -1.8707067 ,\n",
       "        0.44962943, -1.4187036 , -1.4048425 ,  0.03708965, -0.14510272,\n",
       "       -3.7387834 , -1.4536693 , -0.96307504, -0.2893705 ,  2.1259365 ,\n",
       "       -1.3991299 , -0.48621932, -0.81245303,  1.6293314 , -1.6540309 ,\n",
       "       -0.19674015, -0.24648456,  0.13603316,  1.2936443 ,  0.8155285 ,\n",
       "        0.6747868 , -0.81705767,  2.1477005 ,  0.37457106,  1.1204357 ,\n",
       "        0.71242917, -0.4085135 , -1.9167292 ,  0.1720415 ,  0.473959  ,\n",
       "       -1.6739705 ,  0.1358601 , -0.31878406,  0.43997708,  1.6443787 ,\n",
       "        0.6679608 ,  0.51159066,  0.00685198, -1.5000716 ,  0.35857335,\n",
       "        0.03216768, -1.1231972 ,  1.2367542 , -1.2078367 , -0.7643419 ,\n",
       "        1.4213383 , -1.1706924 , -0.9760943 , -1.3039851 ,  0.6942429 ,\n",
       "        1.036785  , -1.347768  , -0.18085386,  0.7216406 , -1.7005433 ,\n",
       "       -1.8801379 , -3.4341187 , -1.8579961 ,  1.6236565 ,  1.2966045 ,\n",
       "       -0.931671  ,  0.68759346,  0.23445   , -0.7888347 ,  1.4490077 ,\n",
       "       -4.071574  , -0.540111  , -1.3363068 ,  0.6625242 ,  0.2844094 ,\n",
       "       -0.41647995, -2.1801648 , -2.2071142 ,  1.1058466 , -0.23388611,\n",
       "        1.1108582 ,  0.29513744, -0.608577  , -1.8592588 , -0.13811022,\n",
       "       -2.1860769 , -0.09069493,  3.3385265 , -1.1027156 , -1.0599366 ],\n",
       "      dtype=float32)"
      ]
     },
     "execution_count": 11,
     "metadata": {},
     "output_type": "execute_result"
    }
   ],
   "source": [
    "#list(model.wv.vocab)\n",
    "model['apply']"
   ]
  },
  {
   "cell_type": "code",
   "execution_count": 52,
   "metadata": {},
   "outputs": [
    {
     "data": {
      "text/plain": [
       "62"
      ]
     },
     "execution_count": 52,
     "metadata": {},
     "output_type": "execute_result"
    }
   ],
   "source": [
    "x[(x.date.apply(str)<'2018-05-01') & (x.date.apply(str)>'2018-04-05')]\n",
    "max(x.title_split.apply(len))"
   ]
  },
  {
   "cell_type": "code",
   "execution_count": 13,
   "metadata": {},
   "outputs": [],
   "source": [
    "def embed(split_title):\n",
    "    return model[split_title]\n",
    "\n",
    "def padding(embed_vec):\n",
    "    pad_len = 60-len(embed_vec)\n",
    "    return np.pad(embed_vec, ((pad_len, 0), (0, 0)), 'constant')\n",
    "\n",
    "def embed_pad(split_title):\n",
    "    pad_len = 60-len(split_title)\n",
    "    return np.pad(model[split_title], ((pad_len, 0), (0, 0)), 'constant')"
   ]
  },
  {
   "cell_type": "code",
   "execution_count": 17,
   "metadata": {
    "scrolled": false
   },
   "outputs": [
    {
     "name": "stderr",
     "output_type": "stream",
     "text": [
      "/home/qara/anaconda3/lib/python3.6/site-packages/ipykernel_launcher.py:10: DeprecationWarning: Call to deprecated `__getitem__` (Method will be removed in 4.0.0, use self.wv.__getitem__() instead).\n",
      "  # Remove the CWD from sys.path while we load stuff.\n"
     ]
    }
   ],
   "source": [
    "a = x.loc[0:100, 'title_split'].apply(embed_pad)\n",
    "b = x.loc[0:100, 'log_score']"
   ]
  },
  {
   "cell_type": "code",
   "execution_count": 31,
   "metadata": {},
   "outputs": [
    {
     "data": {
      "text/plain": [
       "[0.3010299956639812,\n",
       " 0.7781512503836436,\n",
       " 0.3010299956639812,\n",
       " 0.9030899869919435,\n",
       " 0.3010299956639812,\n",
       " 0.0,\n",
       " 0.0,\n",
       " 0.3010299956639812,\n",
       " 0.3010299956639812,\n",
       " 0.3010299956639812,\n",
       " 0.3010299956639812,\n",
       " 1.3617278360175928,\n",
       " 0.3010299956639812,\n",
       " 2.3873898263387296,\n",
       " 0.3010299956639812,\n",
       " 0.3010299956639812,\n",
       " 1.146128035678238,\n",
       " 0.47712125471966244,\n",
       " 1.4771212547196624,\n",
       " 0.47712125471966244,\n",
       " 0.3010299956639812,\n",
       " 1.8260748027008264,\n",
       " 0.3010299956639812,\n",
       " 0.3010299956639812,\n",
       " 0.3010299956639812,\n",
       " 0.3010299956639812,\n",
       " 1.2304489213782739,\n",
       " 1.3424226808222062,\n",
       " 1.041392685158225,\n",
       " 0.3010299956639812,\n",
       " 0.6020599913279624,\n",
       " 2.1271047983648077,\n",
       " 0.3010299956639812,\n",
       " 0.3010299956639812,\n",
       " 4.812057287410331,\n",
       " 0.3010299956639812,\n",
       " 0.9542425094393249,\n",
       " 0.3010299956639812,\n",
       " 0.3010299956639812,\n",
       " 0.3010299956639812,\n",
       " 0.3010299956639812,\n",
       " 0.3010299956639812,\n",
       " 0.3010299956639812,\n",
       " 1.0791812460476249,\n",
       " 0.3010299956639812,\n",
       " 0.3010299956639812,\n",
       " 0.6020599913279624,\n",
       " 0.3010299956639812,\n",
       " 0.3010299956639812,\n",
       " 2.8948696567452523,\n",
       " 0.3010299956639812,\n",
       " 0.3010299956639812,\n",
       " 0.3010299956639812,\n",
       " 0.3010299956639812,\n",
       " 0.3010299956639812,\n",
       " 0.3010299956639812,\n",
       " 0.3010299956639812,\n",
       " 0.8450980400142568,\n",
       " 1.0791812460476249,\n",
       " 1.1760912590556813,\n",
       " 0.3010299956639812,\n",
       " 0.3010299956639812,\n",
       " 0.3010299956639812,\n",
       " 0.6989700043360189,\n",
       " 0.3010299956639812,\n",
       " 0.3010299956639812,\n",
       " 1.1139433523068367,\n",
       " 0.6989700043360189,\n",
       " 0.3010299956639812,\n",
       " 0.9030899869919435,\n",
       " 0.3010299956639812,\n",
       " 0.3010299956639812,\n",
       " 0.3010299956639812,\n",
       " 0.3010299956639812,\n",
       " 0.3010299956639812,\n",
       " 0.3010299956639812,\n",
       " 3.0542299098633974,\n",
       " 0.0,\n",
       " 0.3010299956639812,\n",
       " 0.6020599913279624,\n",
       " 0.3010299956639812,\n",
       " 0.3010299956639812,\n",
       " 1.6127838567197355,\n",
       " 2.7810369386211318,\n",
       " 0.3010299956639812,\n",
       " 0.3010299956639812,\n",
       " 2.4727564493172123,\n",
       " 0.3010299956639812,\n",
       " 0.47712125471966244,\n",
       " 0.3010299956639812,\n",
       " 0.3010299956639812,\n",
       " 0.3010299956639812,\n",
       " 0.6020599913279624,\n",
       " 0.3010299956639812,\n",
       " 0.0,\n",
       " 0.0,\n",
       " 0.3010299956639812,\n",
       " 2.952792443044092,\n",
       " 0.3010299956639812,\n",
       " 0.3010299956639812,\n",
       " 0.3010299956639812]"
      ]
     },
     "execution_count": 31,
     "metadata": {},
     "output_type": "execute_result"
    }
   ],
   "source": [
    "np.array(list(a[:10]))\n",
    "list(b)"
   ]
  },
  {
   "cell_type": "code",
   "execution_count": 14,
   "metadata": {},
   "outputs": [],
   "source": [
    "save_obj(x, 'data_1')"
   ]
  },
  {
   "cell_type": "code",
   "execution_count": 12,
   "metadata": {},
   "outputs": [],
   "source": [
    "x.loc[:10, 'pad'] = x.loc[:10, 'embed'].apply(padding)"
   ]
  },
  {
   "cell_type": "code",
   "execution_count": 13,
   "metadata": {},
   "outputs": [
    {
     "data": {
      "text/plain": [
       "0     [[0.0, 0.0, 0.0, 0.0, 0.0, 0.0, 0.0, 0.0, 0.0,...\n",
       "1     [[0.0, 0.0, 0.0, 0.0, 0.0, 0.0, 0.0, 0.0, 0.0,...\n",
       "2     [[0.0, 0.0, 0.0, 0.0, 0.0, 0.0, 0.0, 0.0, 0.0,...\n",
       "3     [[0.0, 0.0, 0.0, 0.0, 0.0, 0.0, 0.0, 0.0, 0.0,...\n",
       "4     [[0.0, 0.0, 0.0, 0.0, 0.0, 0.0, 0.0, 0.0, 0.0,...\n",
       "5     [[0.0, 0.0, 0.0, 0.0, 0.0, 0.0, 0.0, 0.0, 0.0,...\n",
       "6     [[0.0, 0.0, 0.0, 0.0, 0.0, 0.0, 0.0, 0.0, 0.0,...\n",
       "7     [[0.0, 0.0, 0.0, 0.0, 0.0, 0.0, 0.0, 0.0, 0.0,...\n",
       "8     [[0.0, 0.0, 0.0, 0.0, 0.0, 0.0, 0.0, 0.0, 0.0,...\n",
       "9     [[0.0, 0.0, 0.0, 0.0, 0.0, 0.0, 0.0, 0.0, 0.0,...\n",
       "10    [[0.0, 0.0, 0.0, 0.0, 0.0, 0.0, 0.0, 0.0, 0.0,...\n",
       "Name: pad, dtype: object"
      ]
     },
     "execution_count": 13,
     "metadata": {},
     "output_type": "execute_result"
    }
   ],
   "source": [
    "x.loc[:10, 'pad']"
   ]
  },
  {
   "cell_type": "code",
   "execution_count": 14,
   "metadata": {},
   "outputs": [
    {
     "data": {
      "text/plain": [
       "(300, 100)"
      ]
     },
     "execution_count": 14,
     "metadata": {},
     "output_type": "execute_result"
    }
   ],
   "source": [
    "q = np.concatenate(x.loc[:9, 'pad'])\n",
    "q.shape"
   ]
  }
 ],
 "metadata": {
  "kernelspec": {
   "display_name": "Python 3",
   "language": "python",
   "name": "python3"
  },
  "language_info": {
   "codemirror_mode": {
    "name": "ipython",
    "version": 3
   },
   "file_extension": ".py",
   "mimetype": "text/x-python",
   "name": "python",
   "nbconvert_exporter": "python",
   "pygments_lexer": "ipython3",
   "version": "3.6.5"
  }
 },
 "nbformat": 4,
 "nbformat_minor": 2
}
