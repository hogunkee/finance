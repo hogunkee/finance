{
 "cells": [
  {
   "cell_type": "code",
   "execution_count": 2,
   "metadata": {},
   "outputs": [],
   "source": [
    "from sklearn.linear_model import LinearRegression\n",
    "from sklearn.feature_extraction.text import CountVectorizer\n",
    "from sklearn.model_selection import train_test_split\n",
    "import pandas as pd\n",
    "import numpy as np"
   ]
  },
  {
   "cell_type": "code",
   "execution_count": 3,
   "metadata": {},
   "outputs": [],
   "source": [
    "def topk_by_date(date, score, k = 100):\n",
    "    df ={'date':date, 'score':score}\n",
    "    df = pd.DataFrame(df)\n",
    "    topk = df.groupby('date').score.nlargest(k)\n",
    "    return topk"
   ]
  },
  {
   "cell_type": "code",
   "execution_count": 4,
   "metadata": {},
   "outputs": [],
   "source": [
    "df = pd.read_csv('reddit_worldnews_1year.csv')"
   ]
  },
  {
   "cell_type": "code",
   "execution_count": 5,
   "metadata": {},
   "outputs": [
    {
     "data": {
      "text/html": [
       "<div>\n",
       "<style scoped>\n",
       "    .dataframe tbody tr th:only-of-type {\n",
       "        vertical-align: middle;\n",
       "    }\n",
       "\n",
       "    .dataframe tbody tr th {\n",
       "        vertical-align: top;\n",
       "    }\n",
       "\n",
       "    .dataframe thead th {\n",
       "        text-align: right;\n",
       "    }\n",
       "</style>\n",
       "<table border=\"1\" class=\"dataframe\">\n",
       "  <thead>\n",
       "    <tr style=\"text-align: right;\">\n",
       "      <th></th>\n",
       "      <th>Unnamed: 0</th>\n",
       "      <th>title</th>\n",
       "      <th>log_score</th>\n",
       "      <th>date</th>\n",
       "    </tr>\n",
       "  </thead>\n",
       "  <tbody>\n",
       "    <tr>\n",
       "      <th>0</th>\n",
       "      <td>0</td>\n",
       "      <td>healthy skin for the new year</td>\n",
       "      <td>0.301030</td>\n",
       "      <td>2017-11-01</td>\n",
       "    </tr>\n",
       "    <tr>\n",
       "      <th>1</th>\n",
       "      <td>1</td>\n",
       "      <td>president obama wants to give young leaders ar...</td>\n",
       "      <td>0.778151</td>\n",
       "      <td>2017-11-01</td>\n",
       "    </tr>\n",
       "    <tr>\n",
       "      <th>2</th>\n",
       "      <td>2</td>\n",
       "      <td>new york terror attack truck crash in lower ma...</td>\n",
       "      <td>0.301030</td>\n",
       "      <td>2017-11-01</td>\n",
       "    </tr>\n",
       "    <tr>\n",
       "      <th>3</th>\n",
       "      <td>3</td>\n",
       "      <td>eu japan ask un to condemn n korea over rights...</td>\n",
       "      <td>0.903090</td>\n",
       "      <td>2017-11-01</td>\n",
       "    </tr>\n",
       "    <tr>\n",
       "      <th>4</th>\n",
       "      <td>4</td>\n",
       "      <td>sell my miami house fast real estate solutions</td>\n",
       "      <td>0.301030</td>\n",
       "      <td>2017-11-01</td>\n",
       "    </tr>\n",
       "  </tbody>\n",
       "</table>\n",
       "</div>"
      ],
      "text/plain": [
       "   Unnamed: 0                                              title  log_score  \\\n",
       "0           0                      healthy skin for the new year   0.301030   \n",
       "1           1  president obama wants to give young leaders ar...   0.778151   \n",
       "2           2  new york terror attack truck crash in lower ma...   0.301030   \n",
       "3           3  eu japan ask un to condemn n korea over rights...   0.903090   \n",
       "4           4     sell my miami house fast real estate solutions   0.301030   \n",
       "\n",
       "         date  \n",
       "0  2017-11-01  \n",
       "1  2017-11-01  \n",
       "2  2017-11-01  \n",
       "3  2017-11-01  \n",
       "4  2017-11-01  "
      ]
     },
     "execution_count": 5,
     "metadata": {},
     "output_type": "execute_result"
    }
   ],
   "source": [
    "df.head()"
   ]
  },
  {
   "cell_type": "code",
   "execution_count": 6,
   "metadata": {},
   "outputs": [],
   "source": [
    "train_valid_rate = 0.95\n",
    "train_valid_point = int(train_valid_rate * len(df))\n",
    "train_df = df.iloc[:train_valid_point, :]\n",
    "valid_df = df.iloc[train_valid_point:, :]"
   ]
  },
  {
   "cell_type": "code",
   "execution_count": 7,
   "metadata": {},
   "outputs": [],
   "source": [
    "vectorizer = CountVectorizer(ngram_range=(1,1))\n",
    "vectorizer = vectorizer.fit(train_df['title'])"
   ]
  },
  {
   "cell_type": "code",
   "execution_count": 8,
   "metadata": {},
   "outputs": [],
   "source": [
    "trans_title_train = vectorizer.transform(train_df['title'])\n",
    "trans_title_valid = vectorizer.transform(valid_df['title'])"
   ]
  },
  {
   "cell_type": "code",
   "execution_count": 9,
   "metadata": {},
   "outputs": [],
   "source": [
    "model = LinearRegression()"
   ]
  },
  {
   "cell_type": "code",
   "execution_count": null,
   "metadata": {},
   "outputs": [],
   "source": [
    "model = model.fit(trans_title_train, train_df['log_score'])"
   ]
  },
  {
   "cell_type": "code",
   "execution_count": 40,
   "metadata": {},
   "outputs": [],
   "source": [
    "prediction = model.predict(trans_title_valid)"
   ]
  },
  {
   "cell_type": "code",
   "execution_count": 41,
   "metadata": {},
   "outputs": [
    {
     "data": {
      "text/plain": [
       "array([0.21243608, 0.66057293, 0.47041384, ..., 0.29639351, 0.43302289,\n",
       "       0.30101449])"
      ]
     },
     "execution_count": 41,
     "metadata": {},
     "output_type": "execute_result"
    }
   ],
   "source": [
    "prediction"
   ]
  },
  {
   "cell_type": "code",
   "execution_count": 43,
   "metadata": {},
   "outputs": [
    {
     "name": "stdout",
     "output_type": "stream",
     "text": [
      "288798    0.301030\n",
      "288799    0.301030\n",
      "288800    0.698970\n",
      "288801    0.301030\n",
      "288802    0.301030\n",
      "288803    0.301030\n",
      "288804    0.602060\n",
      "288805    1.041393\n",
      "288806    0.954243\n",
      "288807    0.301030\n",
      "Name: log_score, dtype: float64\n",
      "[0.21243608 0.66057293 0.47041384 0.38223478 0.47320028 0.56463441\n",
      " 0.71658346 0.85987971 0.93908423 0.38712033]\n"
     ]
    }
   ],
   "source": [
    "print(valid_df.log_score[:10])\n",
    "print(prediction[:10])"
   ]
  },
  {
   "cell_type": "code",
   "execution_count": 1,
   "metadata": {},
   "outputs": [
    {
     "ename": "NameError",
     "evalue": "name 'valid_df' is not defined",
     "output_type": "error",
     "traceback": [
      "\u001b[0;31m---------------------------------------------------------------------------\u001b[0m",
      "\u001b[0;31mNameError\u001b[0m                                 Traceback (most recent call last)",
      "\u001b[0;32m<ipython-input-1-a265af051560>\u001b[0m in \u001b[0;36m<module>\u001b[0;34m()\u001b[0m\n\u001b[1;32m     23\u001b[0m \u001b[0;34m\u001b[0m\u001b[0m\n\u001b[1;32m     24\u001b[0m     \u001b[0;32mreturn\u001b[0m \u001b[0mprecision\u001b[0m\u001b[0;34m\u001b[0m\u001b[0m\n\u001b[0;32m---> 25\u001b[0;31m \u001b[0mevaluate_by_top_score\u001b[0m\u001b[0;34m(\u001b[0m\u001b[0mvalid_df\u001b[0m\u001b[0;34m.\u001b[0m\u001b[0mdate\u001b[0m\u001b[0;34m,\u001b[0m \u001b[0mvalid_df\u001b[0m\u001b[0;34m.\u001b[0m\u001b[0mscore\u001b[0m\u001b[0;34m,\u001b[0m \u001b[0mvalid_df\u001b[0m\u001b[0;34m.\u001b[0m\u001b[0mpred\u001b[0m\u001b[0;34m)\u001b[0m\u001b[0;34m\u001b[0m\u001b[0m\n\u001b[0m",
      "\u001b[0;31mNameError\u001b[0m: name 'valid_df' is not defined"
     ]
    }
   ],
   "source": [
    "def evaluate_by_top_score(date, score, pred):\n",
    "    df = pd.DataFrame({'date':date, 'score':score, 'pred':pred})\n",
    "    date_list = pd.unique(date)\n",
    "    \n",
    "    df['score_label'] = np.zeros(len(df), dtype=np.int32)\n",
    "    df['pred_label'] = np.zeros(len(df), dtype=np.int32)\n",
    "    top_score = []\n",
    "    top_pred = []\n",
    "    \n",
    "    for day in date_list:\n",
    "        df_by_date = df[df['date'] == day]\n",
    "        topk = int(0.1 * len(df_by_date))\n",
    "        top_score.extend(df_by_date.score.nlargest(topk).index)\n",
    "        top_pred.extend(df_by_date.pred.nlargest(topk).index)\n",
    "        \n",
    "    df['score_label'][top_score] = 1\n",
    "    df['pred_label'][top_pred] = 1\n",
    "    cross = pd.crosstab(df['score_label'], df['pred_label'], rownames=[\"Actual\"], colnames=[\"Predicted\"])\n",
    "    precision = cross[1][1] / (cross[1][1] + cross[0][1]) \n",
    "    print(cross)\n",
    "    print()\n",
    "    print(\"precision: {}\".format(precision))\n",
    "    \n",
    "    return precision\n",
    "evaluate_by_top_score(valid_df.date, valid_df.score, valid_df.pred)"
   ]
  },
  {
   "cell_type": "code",
   "execution_count": null,
   "metadata": {},
   "outputs": [],
   "source": []
  }
 ],
 "metadata": {
  "kernelspec": {
   "display_name": "Python 3",
   "language": "python",
   "name": "python3"
  },
  "language_info": {
   "codemirror_mode": {
    "name": "ipython",
    "version": 3
   },
   "file_extension": ".py",
   "mimetype": "text/x-python",
   "name": "python",
   "nbconvert_exporter": "python",
   "pygments_lexer": "ipython3",
   "version": "3.6.5"
  }
 },
 "nbformat": 4,
 "nbformat_minor": 2
}
