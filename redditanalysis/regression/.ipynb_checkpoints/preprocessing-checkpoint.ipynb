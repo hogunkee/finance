{
 "cells": [
  {
   "cell_type": "code",
   "execution_count": 1,
   "metadata": {},
   "outputs": [],
   "source": [
    "from data_loader import *"
   ]
  },
  {
   "cell_type": "code",
   "execution_count": 2,
   "metadata": {},
   "outputs": [],
   "source": [
    "#x = load_data()\n",
    "x = load_obj('data_1')"
   ]
  },
  {
   "cell_type": "code",
   "execution_count": 3,
   "metadata": {},
   "outputs": [
    {
     "data": {
      "text/html": [
       "<div>\n",
       "<style scoped>\n",
       "    .dataframe tbody tr th:only-of-type {\n",
       "        vertical-align: middle;\n",
       "    }\n",
       "\n",
       "    .dataframe tbody tr th {\n",
       "        vertical-align: top;\n",
       "    }\n",
       "\n",
       "    .dataframe thead th {\n",
       "        text-align: right;\n",
       "    }\n",
       "</style>\n",
       "<table border=\"1\" class=\"dataframe\">\n",
       "  <thead>\n",
       "    <tr style=\"text-align: right;\">\n",
       "      <th></th>\n",
       "      <th>title</th>\n",
       "      <th>score</th>\n",
       "      <th>log_score</th>\n",
       "      <th>date</th>\n",
       "    </tr>\n",
       "  </thead>\n",
       "  <tbody>\n",
       "    <tr>\n",
       "      <th>0</th>\n",
       "      <td>healthy skin for the new year</td>\n",
       "      <td>1</td>\n",
       "      <td>0.301030</td>\n",
       "      <td>2017-11-01</td>\n",
       "    </tr>\n",
       "    <tr>\n",
       "      <th>1</th>\n",
       "      <td>president obama wants to give young leaders ar...</td>\n",
       "      <td>5</td>\n",
       "      <td>0.778151</td>\n",
       "      <td>2017-11-01</td>\n",
       "    </tr>\n",
       "    <tr>\n",
       "      <th>2</th>\n",
       "      <td>new york terror attack truck crash in lower ma...</td>\n",
       "      <td>1</td>\n",
       "      <td>0.301030</td>\n",
       "      <td>2017-11-01</td>\n",
       "    </tr>\n",
       "    <tr>\n",
       "      <th>3</th>\n",
       "      <td>eu japan ask un to condemn n korea over rights...</td>\n",
       "      <td>7</td>\n",
       "      <td>0.903090</td>\n",
       "      <td>2017-11-01</td>\n",
       "    </tr>\n",
       "    <tr>\n",
       "      <th>4</th>\n",
       "      <td>sell my miami house fast real estate solutions</td>\n",
       "      <td>1</td>\n",
       "      <td>0.301030</td>\n",
       "      <td>2017-11-01</td>\n",
       "    </tr>\n",
       "  </tbody>\n",
       "</table>\n",
       "</div>"
      ],
      "text/plain": [
       "                                               title  score  log_score  \\\n",
       "0                      healthy skin for the new year      1   0.301030   \n",
       "1  president obama wants to give young leaders ar...      5   0.778151   \n",
       "2  new york terror attack truck crash in lower ma...      1   0.301030   \n",
       "3  eu japan ask un to condemn n korea over rights...      7   0.903090   \n",
       "4     sell my miami house fast real estate solutions      1   0.301030   \n",
       "\n",
       "         date  \n",
       "0  2017-11-01  \n",
       "1  2017-11-01  \n",
       "2  2017-11-01  \n",
       "3  2017-11-01  \n",
       "4  2017-11-01  "
      ]
     },
     "execution_count": 3,
     "metadata": {},
     "output_type": "execute_result"
    }
   ],
   "source": [
    "x.head()"
   ]
  },
  {
   "cell_type": "code",
   "execution_count": 4,
   "metadata": {},
   "outputs": [],
   "source": [
    "def splitt(title):\n",
    "    return title.split()"
   ]
  },
  {
   "cell_type": "code",
   "execution_count": 5,
   "metadata": {},
   "outputs": [],
   "source": [
    "x['title_split'] = x['title'].apply(splitt)\n",
    "title_word_length = x['title'].apply(splitt).apply(len)"
   ]
  },
  {
   "cell_type": "code",
   "execution_count": 6,
   "metadata": {},
   "outputs": [
    {
     "name": "stdout",
     "output_type": "stream",
     "text": [
      "3\n",
      "62\n",
      "12.041228333797475\n"
     ]
    }
   ],
   "source": [
    "print(np.min(title_word_length))\n",
    "print(np.max(title_word_length))\n",
    "print(np.mean(title_word_length))"
   ]
  },
  {
   "cell_type": "code",
   "execution_count": 7,
   "metadata": {},
   "outputs": [],
   "source": [
    "from w2v import fasttext"
   ]
  },
  {
   "cell_type": "code",
   "execution_count": 8,
   "metadata": {},
   "outputs": [],
   "source": [
    "model = fasttext()"
   ]
  },
  {
   "cell_type": "code",
   "execution_count": 9,
   "metadata": {},
   "outputs": [],
   "source": [
    "#dir(model.wv)"
   ]
  },
  {
   "cell_type": "code",
   "execution_count": 10,
   "metadata": {
    "scrolled": true
   },
   "outputs": [
    {
     "name": "stderr",
     "output_type": "stream",
     "text": [
      "/home/qara/anaconda3/lib/python3.6/site-packages/ipykernel_launcher.py:2: DeprecationWarning: Call to deprecated `__getitem__` (Method will be removed in 4.0.0, use self.wv.__getitem__() instead).\n",
      "  \n"
     ]
    },
    {
     "data": {
      "text/plain": [
       "array([ 0.47198895, -0.8864994 , -0.15044719,  3.217712  ,  0.00719748,\n",
       "       -0.16683146,  2.467169  ,  0.7769951 , -1.5274677 ,  3.1067438 ,\n",
       "       -1.0274117 , -1.8003892 ,  0.8586595 , -1.3413031 , -1.8707067 ,\n",
       "        0.44962943, -1.4187036 , -1.4048425 ,  0.03708965, -0.14510272,\n",
       "       -3.7387834 , -1.4536693 , -0.96307504, -0.2893705 ,  2.1259365 ,\n",
       "       -1.3991299 , -0.48621932, -0.81245303,  1.6293314 , -1.6540309 ,\n",
       "       -0.19674015, -0.24648456,  0.13603316,  1.2936443 ,  0.8155285 ,\n",
       "        0.6747868 , -0.81705767,  2.1477005 ,  0.37457106,  1.1204357 ,\n",
       "        0.71242917, -0.4085135 , -1.9167292 ,  0.1720415 ,  0.473959  ,\n",
       "       -1.6739705 ,  0.1358601 , -0.31878406,  0.43997708,  1.6443787 ,\n",
       "        0.6679608 ,  0.51159066,  0.00685198, -1.5000716 ,  0.35857335,\n",
       "        0.03216768, -1.1231972 ,  1.2367542 , -1.2078367 , -0.7643419 ,\n",
       "        1.4213383 , -1.1706924 , -0.9760943 , -1.3039851 ,  0.6942429 ,\n",
       "        1.036785  , -1.347768  , -0.18085386,  0.7216406 , -1.7005433 ,\n",
       "       -1.8801379 , -3.4341187 , -1.8579961 ,  1.6236565 ,  1.2966045 ,\n",
       "       -0.931671  ,  0.68759346,  0.23445   , -0.7888347 ,  1.4490077 ,\n",
       "       -4.071574  , -0.540111  , -1.3363068 ,  0.6625242 ,  0.2844094 ,\n",
       "       -0.41647995, -2.1801648 , -2.2071142 ,  1.1058466 , -0.23388611,\n",
       "        1.1108582 ,  0.29513744, -0.608577  , -1.8592588 , -0.13811022,\n",
       "       -2.1860769 , -0.09069493,  3.3385265 , -1.1027156 , -1.0599366 ],\n",
       "      dtype=float32)"
      ]
     },
     "execution_count": 10,
     "metadata": {},
     "output_type": "execute_result"
    }
   ],
   "source": [
    "#list(model.wv.vocab)\n",
    "model['apply']"
   ]
  },
  {
   "cell_type": "code",
   "execution_count": 11,
   "metadata": {},
   "outputs": [
    {
     "data": {
      "text/html": [
       "<div>\n",
       "<style scoped>\n",
       "    .dataframe tbody tr th:only-of-type {\n",
       "        vertical-align: middle;\n",
       "    }\n",
       "\n",
       "    .dataframe tbody tr th {\n",
       "        vertical-align: top;\n",
       "    }\n",
       "\n",
       "    .dataframe thead th {\n",
       "        text-align: right;\n",
       "    }\n",
       "</style>\n",
       "<table border=\"1\" class=\"dataframe\">\n",
       "  <thead>\n",
       "    <tr style=\"text-align: right;\">\n",
       "      <th></th>\n",
       "      <th>title</th>\n",
       "      <th>score</th>\n",
       "      <th>log_score</th>\n",
       "      <th>date</th>\n",
       "      <th>title_split</th>\n",
       "    </tr>\n",
       "  </thead>\n",
       "  <tbody>\n",
       "    <tr>\n",
       "      <th>0</th>\n",
       "      <td>healthy skin for the new year</td>\n",
       "      <td>1</td>\n",
       "      <td>0.301030</td>\n",
       "      <td>2017-11-01</td>\n",
       "      <td>[healthy, skin, for, the, new, year]</td>\n",
       "    </tr>\n",
       "    <tr>\n",
       "      <th>1</th>\n",
       "      <td>president obama wants to give young leaders ar...</td>\n",
       "      <td>5</td>\n",
       "      <td>0.778151</td>\n",
       "      <td>2017-11-01</td>\n",
       "      <td>[president, obama, wants, to, give, young, lea...</td>\n",
       "    </tr>\n",
       "    <tr>\n",
       "      <th>2</th>\n",
       "      <td>new york terror attack truck crash in lower ma...</td>\n",
       "      <td>1</td>\n",
       "      <td>0.301030</td>\n",
       "      <td>2017-11-01</td>\n",
       "      <td>[new, york, terror, attack, truck, crash, in, ...</td>\n",
       "    </tr>\n",
       "    <tr>\n",
       "      <th>3</th>\n",
       "      <td>eu japan ask un to condemn n korea over rights...</td>\n",
       "      <td>7</td>\n",
       "      <td>0.903090</td>\n",
       "      <td>2017-11-01</td>\n",
       "      <td>[eu, japan, ask, un, to, condemn, n, korea, ov...</td>\n",
       "    </tr>\n",
       "    <tr>\n",
       "      <th>4</th>\n",
       "      <td>sell my miami house fast real estate solutions</td>\n",
       "      <td>1</td>\n",
       "      <td>0.301030</td>\n",
       "      <td>2017-11-01</td>\n",
       "      <td>[sell, my, miami, house, fast, real, estate, s...</td>\n",
       "    </tr>\n",
       "  </tbody>\n",
       "</table>\n",
       "</div>"
      ],
      "text/plain": [
       "                                               title  score  log_score  \\\n",
       "0                      healthy skin for the new year      1   0.301030   \n",
       "1  president obama wants to give young leaders ar...      5   0.778151   \n",
       "2  new york terror attack truck crash in lower ma...      1   0.301030   \n",
       "3  eu japan ask un to condemn n korea over rights...      7   0.903090   \n",
       "4     sell my miami house fast real estate solutions      1   0.301030   \n",
       "\n",
       "         date                                        title_split  \n",
       "0  2017-11-01               [healthy, skin, for, the, new, year]  \n",
       "1  2017-11-01  [president, obama, wants, to, give, young, lea...  \n",
       "2  2017-11-01  [new, york, terror, attack, truck, crash, in, ...  \n",
       "3  2017-11-01  [eu, japan, ask, un, to, condemn, n, korea, ov...  \n",
       "4  2017-11-01  [sell, my, miami, house, fast, real, estate, s...  "
      ]
     },
     "execution_count": 11,
     "metadata": {},
     "output_type": "execute_result"
    }
   ],
   "source": [
    "x.head()"
   ]
  },
  {
   "cell_type": "code",
   "execution_count": 12,
   "metadata": {},
   "outputs": [],
   "source": [
    "def embed(split_title):\n",
    "    return model[split_title]\n",
    "\n",
    "def padding(embed_vec):\n",
    "    pad_len = 60-len(embed_vec)\n",
    "    return np.pad(embed_vec, ((pad_len, 0), (0, 0)), 'constant')\n",
    "\n",
    "def embed_pad(split_title):\n",
    "    pad_len = 60-len(split_title)\n",
    "    return np.pad(model[split_title], ((pad_len, 0), (0, 0)), 'constant')"
   ]
  },
  {
   "cell_type": "code",
   "execution_count": 13,
   "metadata": {
    "scrolled": true
   },
   "outputs": [
    {
     "name": "stderr",
     "output_type": "stream",
     "text": [
      "/home/qara/anaconda3/lib/python3.6/site-packages/ipykernel_launcher.py:10: DeprecationWarning: Call to deprecated `__getitem__` (Method will be removed in 4.0.0, use self.wv.__getitem__() instead).\n",
      "  # Remove the CWD from sys.path while we load stuff.\n"
     ]
    },
    {
     "name": "stdout",
     "output_type": "stream",
     "text": [
      "0 100000\n"
     ]
    }
   ],
   "source": [
    "i=1\n",
    "x.loc[100000*i:100000*(i+1), 'embed'] = x.loc[100000*i:100000*(i+1), 'title_split'].apply(embed_pad)\n",
    "print(100000*i, 100000*(i+1))\n",
    "i+=1"
   ]
  },
  {
   "cell_type": "code",
   "execution_count": 14,
   "metadata": {},
   "outputs": [],
   "source": [
    "save_obj(x, 'data_1')"
   ]
  },
  {
   "cell_type": "code",
   "execution_count": 12,
   "metadata": {},
   "outputs": [],
   "source": [
    "x.loc[:10, 'pad'] = x.loc[:10, 'embed'].apply(padding)"
   ]
  },
  {
   "cell_type": "code",
   "execution_count": 13,
   "metadata": {},
   "outputs": [
    {
     "data": {
      "text/plain": [
       "0     [[0.0, 0.0, 0.0, 0.0, 0.0, 0.0, 0.0, 0.0, 0.0,...\n",
       "1     [[0.0, 0.0, 0.0, 0.0, 0.0, 0.0, 0.0, 0.0, 0.0,...\n",
       "2     [[0.0, 0.0, 0.0, 0.0, 0.0, 0.0, 0.0, 0.0, 0.0,...\n",
       "3     [[0.0, 0.0, 0.0, 0.0, 0.0, 0.0, 0.0, 0.0, 0.0,...\n",
       "4     [[0.0, 0.0, 0.0, 0.0, 0.0, 0.0, 0.0, 0.0, 0.0,...\n",
       "5     [[0.0, 0.0, 0.0, 0.0, 0.0, 0.0, 0.0, 0.0, 0.0,...\n",
       "6     [[0.0, 0.0, 0.0, 0.0, 0.0, 0.0, 0.0, 0.0, 0.0,...\n",
       "7     [[0.0, 0.0, 0.0, 0.0, 0.0, 0.0, 0.0, 0.0, 0.0,...\n",
       "8     [[0.0, 0.0, 0.0, 0.0, 0.0, 0.0, 0.0, 0.0, 0.0,...\n",
       "9     [[0.0, 0.0, 0.0, 0.0, 0.0, 0.0, 0.0, 0.0, 0.0,...\n",
       "10    [[0.0, 0.0, 0.0, 0.0, 0.0, 0.0, 0.0, 0.0, 0.0,...\n",
       "Name: pad, dtype: object"
      ]
     },
     "execution_count": 13,
     "metadata": {},
     "output_type": "execute_result"
    }
   ],
   "source": [
    "x.loc[:10, 'pad']"
   ]
  },
  {
   "cell_type": "code",
   "execution_count": 14,
   "metadata": {},
   "outputs": [
    {
     "data": {
      "text/plain": [
       "(300, 100)"
      ]
     },
     "execution_count": 14,
     "metadata": {},
     "output_type": "execute_result"
    }
   ],
   "source": [
    "q = np.concatenate(x.loc[:9, 'pad'])\n",
    "q.shape"
   ]
  },
  {
   "cell_type": "code",
   "execution_count": null,
   "metadata": {},
   "outputs": [],
   "source": []
  }
 ],
 "metadata": {
  "kernelspec": {
   "display_name": "Python 3",
   "language": "python",
   "name": "python3"
  },
  "language_info": {
   "codemirror_mode": {
    "name": "ipython",
    "version": 3
   },
   "file_extension": ".py",
   "mimetype": "text/x-python",
   "name": "python",
   "nbconvert_exporter": "python",
   "pygments_lexer": "ipython3",
   "version": "3.6.5"
  }
 },
 "nbformat": 4,
 "nbformat_minor": 2
}
