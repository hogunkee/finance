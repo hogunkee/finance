{
 "cells": [
  {
   "cell_type": "code",
   "execution_count": 1,
   "metadata": {},
   "outputs": [],
   "source": [
    "from sklearn.linear_model import LinearRegression\n",
    "from sklearn.feature_extraction.text import CountVectorizer\n",
    "from sklearn.model_selection import train_test_split\n",
    "import pandas as pd\n",
    "import numpy as np"
   ]
  },
  {
   "cell_type": "code",
   "execution_count": 100,
   "metadata": {},
   "outputs": [],
   "source": [
    "def topk_by_date(date, score, k = 100):\n",
    "    df ={'date':date, 'score':score}\n",
    "    df = pd.DataFrame(df)\n",
    "    topk = df.groupby('date').score.nlargest(k)\n",
    "    return topk"
   ]
  },
  {
   "cell_type": "code",
   "execution_count": 101,
   "metadata": {},
   "outputs": [
    {
     "data": {
      "text/html": [
       "<div>\n",
       "<style scoped>\n",
       "    .dataframe tbody tr th:only-of-type {\n",
       "        vertical-align: middle;\n",
       "    }\n",
       "\n",
       "    .dataframe tbody tr th {\n",
       "        vertical-align: top;\n",
       "    }\n",
       "\n",
       "    .dataframe thead th {\n",
       "        text-align: right;\n",
       "    }\n",
       "</style>\n",
       "<table border=\"1\" class=\"dataframe\">\n",
       "  <thead>\n",
       "    <tr style=\"text-align: right;\">\n",
       "      <th></th>\n",
       "      <th>Unnamed: 0</th>\n",
       "      <th>title</th>\n",
       "      <th>log_score</th>\n",
       "      <th>date</th>\n",
       "    </tr>\n",
       "  </thead>\n",
       "  <tbody>\n",
       "    <tr>\n",
       "      <th>0</th>\n",
       "      <td>0</td>\n",
       "      <td>healthy skin for the new year</td>\n",
       "      <td>0.301030</td>\n",
       "      <td>2017-11-01</td>\n",
       "    </tr>\n",
       "    <tr>\n",
       "      <th>1</th>\n",
       "      <td>1</td>\n",
       "      <td>president obama wants to give young leaders ar...</td>\n",
       "      <td>0.778151</td>\n",
       "      <td>2017-11-01</td>\n",
       "    </tr>\n",
       "    <tr>\n",
       "      <th>2</th>\n",
       "      <td>2</td>\n",
       "      <td>new york terror attack truck crash in lower ma...</td>\n",
       "      <td>0.301030</td>\n",
       "      <td>2017-11-01</td>\n",
       "    </tr>\n",
       "    <tr>\n",
       "      <th>3</th>\n",
       "      <td>3</td>\n",
       "      <td>eu japan ask un to condemn n korea over rights...</td>\n",
       "      <td>0.903090</td>\n",
       "      <td>2017-11-01</td>\n",
       "    </tr>\n",
       "    <tr>\n",
       "      <th>4</th>\n",
       "      <td>4</td>\n",
       "      <td>sell my miami house fast real estate solutions</td>\n",
       "      <td>0.301030</td>\n",
       "      <td>2017-11-01</td>\n",
       "    </tr>\n",
       "  </tbody>\n",
       "</table>\n",
       "</div>"
      ],
      "text/plain": [
       "   Unnamed: 0                                              title  log_score  \\\n",
       "0           0                      healthy skin for the new year   0.301030   \n",
       "1           1  president obama wants to give young leaders ar...   0.778151   \n",
       "2           2  new york terror attack truck crash in lower ma...   0.301030   \n",
       "3           3  eu japan ask un to condemn n korea over rights...   0.903090   \n",
       "4           4     sell my miami house fast real estate solutions   0.301030   \n",
       "\n",
       "         date  \n",
       "0  2017-11-01  \n",
       "1  2017-11-01  \n",
       "2  2017-11-01  \n",
       "3  2017-11-01  \n",
       "4  2017-11-01  "
      ]
     },
     "execution_count": 101,
     "metadata": {},
     "output_type": "execute_result"
    }
   ],
   "source": [
    "df = pd.read_csv('reddit_worldnews_1year.csv')\n",
    "#df = df.sort_values(by=['date'])\n",
    "df.head()"
   ]
  },
  {
   "cell_type": "code",
   "execution_count": 102,
   "metadata": {},
   "outputs": [
    {
     "data": {
      "text/html": [
       "<div>\n",
       "<style scoped>\n",
       "    .dataframe tbody tr th:only-of-type {\n",
       "        vertical-align: middle;\n",
       "    }\n",
       "\n",
       "    .dataframe tbody tr th {\n",
       "        vertical-align: top;\n",
       "    }\n",
       "\n",
       "    .dataframe thead th {\n",
       "        text-align: right;\n",
       "    }\n",
       "</style>\n",
       "<table border=\"1\" class=\"dataframe\">\n",
       "  <thead>\n",
       "    <tr style=\"text-align: right;\">\n",
       "      <th></th>\n",
       "      <th>Unnamed: 0</th>\n",
       "      <th>title</th>\n",
       "      <th>log_score</th>\n",
       "      <th>date</th>\n",
       "    </tr>\n",
       "  </thead>\n",
       "  <tbody>\n",
       "    <tr>\n",
       "      <th>133364</th>\n",
       "      <td>133364</td>\n",
       "      <td>netanyahu to address country with dramatic new...</td>\n",
       "      <td>1.342423</td>\n",
       "      <td>2018-05-01</td>\n",
       "    </tr>\n",
       "    <tr>\n",
       "      <th>133365</th>\n",
       "      <td>133365</td>\n",
       "      <td>israeli prime minister benjamin netanyahu will...</td>\n",
       "      <td>0.000000</td>\n",
       "      <td>2018-05-01</td>\n",
       "    </tr>\n",
       "    <tr>\n",
       "      <th>133366</th>\n",
       "      <td>133366</td>\n",
       "      <td>south korean leader says trump can take the nobel</td>\n",
       "      <td>0.000000</td>\n",
       "      <td>2018-05-01</td>\n",
       "    </tr>\n",
       "    <tr>\n",
       "      <th>133367</th>\n",
       "      <td>133367</td>\n",
       "      <td>south korean loudspeakers silenced for good as...</td>\n",
       "      <td>1.230449</td>\n",
       "      <td>2018-05-01</td>\n",
       "    </tr>\n",
       "    <tr>\n",
       "      <th>133368</th>\n",
       "      <td>133368</td>\n",
       "      <td>trump suggests meeting kim jong un at koreas p...</td>\n",
       "      <td>0.477121</td>\n",
       "      <td>2018-05-01</td>\n",
       "    </tr>\n",
       "  </tbody>\n",
       "</table>\n",
       "</div>"
      ],
      "text/plain": [
       "        Unnamed: 0                                              title  \\\n",
       "133364      133364  netanyahu to address country with dramatic new...   \n",
       "133365      133365  israeli prime minister benjamin netanyahu will...   \n",
       "133366      133366  south korean leader says trump can take the nobel   \n",
       "133367      133367  south korean loudspeakers silenced for good as...   \n",
       "133368      133368  trump suggests meeting kim jong un at koreas p...   \n",
       "\n",
       "        log_score        date  \n",
       "133364   1.342423  2018-05-01  \n",
       "133365   0.000000  2018-05-01  \n",
       "133366   0.000000  2018-05-01  \n",
       "133367   1.230449  2018-05-01  \n",
       "133368   0.477121  2018-05-01  "
      ]
     },
     "execution_count": 102,
     "metadata": {},
     "output_type": "execute_result"
    }
   ],
   "source": [
    "train_df = df[df.date<'2018-05-01']\n",
    "valid_df = df[df.date>='2018-05-01']\n",
    "valid_df.head()\n",
    "#train_valid_rate = 0.95\n",
    "#train_valid_point = int(train_valid_rate * len(df))\n",
    "#train_df = df.iloc[:train_valid_point, :]\n",
    "#valid_df = df.iloc[train_valid_point:, :]"
   ]
  },
  {
   "cell_type": "code",
   "execution_count": 103,
   "metadata": {
    "scrolled": true
   },
   "outputs": [
    {
     "data": {
      "text/html": [
       "<div>\n",
       "<style scoped>\n",
       "    .dataframe tbody tr th:only-of-type {\n",
       "        vertical-align: middle;\n",
       "    }\n",
       "\n",
       "    .dataframe tbody tr th {\n",
       "        vertical-align: top;\n",
       "    }\n",
       "\n",
       "    .dataframe thead th {\n",
       "        text-align: right;\n",
       "    }\n",
       "</style>\n",
       "<table border=\"1\" class=\"dataframe\">\n",
       "  <thead>\n",
       "    <tr style=\"text-align: right;\">\n",
       "      <th></th>\n",
       "      <th>Unnamed: 0</th>\n",
       "      <th>title</th>\n",
       "      <th>log_score</th>\n",
       "    </tr>\n",
       "    <tr>\n",
       "      <th>date</th>\n",
       "      <th></th>\n",
       "      <th></th>\n",
       "      <th></th>\n",
       "    </tr>\n",
       "  </thead>\n",
       "  <tbody>\n",
       "    <tr>\n",
       "      <th>2017-06-01</th>\n",
       "      <td>1231</td>\n",
       "      <td>1231</td>\n",
       "      <td>1231</td>\n",
       "    </tr>\n",
       "    <tr>\n",
       "      <th>2017-06-02</th>\n",
       "      <td>2469</td>\n",
       "      <td>2469</td>\n",
       "      <td>2469</td>\n",
       "    </tr>\n",
       "    <tr>\n",
       "      <th>2017-06-03</th>\n",
       "      <td>1616</td>\n",
       "      <td>1616</td>\n",
       "      <td>1616</td>\n",
       "    </tr>\n",
       "    <tr>\n",
       "      <th>2017-06-04</th>\n",
       "      <td>1688</td>\n",
       "      <td>1688</td>\n",
       "      <td>1688</td>\n",
       "    </tr>\n",
       "    <tr>\n",
       "      <th>2017-06-05</th>\n",
       "      <td>1928</td>\n",
       "      <td>1928</td>\n",
       "      <td>1928</td>\n",
       "    </tr>\n",
       "  </tbody>\n",
       "</table>\n",
       "</div>"
      ],
      "text/plain": [
       "            Unnamed: 0  title  log_score\n",
       "date                                    \n",
       "2017-06-01        1231   1231       1231\n",
       "2017-06-02        2469   2469       2469\n",
       "2017-06-03        1616   1616       1616\n",
       "2017-06-04        1688   1688       1688\n",
       "2017-06-05        1928   1928       1928"
      ]
     },
     "execution_count": 103,
     "metadata": {},
     "output_type": "execute_result"
    }
   ],
   "source": [
    "df = train_df\n",
    "date_list = pd.unique(df.date)\n",
    "df.groupby('date').agg('count').head()"
   ]
  },
  {
   "cell_type": "code",
   "execution_count": 104,
   "metadata": {},
   "outputs": [],
   "source": [
    "df['score_label'] = np.zeros(len(df), dtype=np.int32)\n",
    "top_score = []\n",
    "for date in date_list:\n",
    "    df_by_date = df[df['date'] == date]\n",
    "    topk = int(0.1 * len(df_by_date))\n",
    "    top_score.extend(df_by_date.log_score.nlargest(topk).index)"
   ]
  },
  {
   "cell_type": "code",
   "execution_count": 105,
   "metadata": {
    "scrolled": false
   },
   "outputs": [
    {
     "name": "stderr",
     "output_type": "stream",
     "text": [
      "/home/qara/anaconda3/lib/python3.6/site-packages/ipykernel_launcher.py:1: SettingWithCopyWarning: \n",
      "A value is trying to be set on a copy of a slice from a DataFrame\n",
      "\n",
      "See the caveats in the documentation: http://pandas.pydata.org/pandas-docs/stable/indexing.html#indexing-view-versus-copy\n",
      "  \"\"\"Entry point for launching an IPython kernel.\n"
     ]
    }
   ],
   "source": [
    "df['score_label'][top_score] = 1"
   ]
  },
  {
   "cell_type": "code",
   "execution_count": 106,
   "metadata": {
    "scrolled": false
   },
   "outputs": [
    {
     "data": {
      "text/html": [
       "<div>\n",
       "<style scoped>\n",
       "    .dataframe tbody tr th:only-of-type {\n",
       "        vertical-align: middle;\n",
       "    }\n",
       "\n",
       "    .dataframe tbody tr th {\n",
       "        vertical-align: top;\n",
       "    }\n",
       "\n",
       "    .dataframe thead th {\n",
       "        text-align: right;\n",
       "    }\n",
       "</style>\n",
       "<table border=\"1\" class=\"dataframe\">\n",
       "  <thead>\n",
       "    <tr style=\"text-align: right;\">\n",
       "      <th></th>\n",
       "      <th>index</th>\n",
       "      <th>Unnamed: 0</th>\n",
       "      <th>title</th>\n",
       "      <th>log_score</th>\n",
       "      <th>date</th>\n",
       "      <th>score_label</th>\n",
       "    </tr>\n",
       "  </thead>\n",
       "  <tbody>\n",
       "    <tr>\n",
       "      <th>0</th>\n",
       "      <td>175229</td>\n",
       "      <td>175229</td>\n",
       "      <td>brooke shields quotes about mom</td>\n",
       "      <td>0.30103</td>\n",
       "      <td>2017-10-28</td>\n",
       "      <td>0</td>\n",
       "    </tr>\n",
       "    <tr>\n",
       "      <th>1</th>\n",
       "      <td>50004</td>\n",
       "      <td>50004</td>\n",
       "      <td>miley cyrus paid rent for a former voice conte...</td>\n",
       "      <td>0.30103</td>\n",
       "      <td>2018-01-07</td>\n",
       "      <td>0</td>\n",
       "    </tr>\n",
       "    <tr>\n",
       "      <th>2</th>\n",
       "      <td>296595</td>\n",
       "      <td>296595</td>\n",
       "      <td>is uber now possible after ceos departure cnet</td>\n",
       "      <td>0.30103</td>\n",
       "      <td>2017-06-22</td>\n",
       "      <td>0</td>\n",
       "    </tr>\n",
       "    <tr>\n",
       "      <th>3</th>\n",
       "      <td>179512</td>\n",
       "      <td>179512</td>\n",
       "      <td>really like football you have got to read thro...</td>\n",
       "      <td>0.30103</td>\n",
       "      <td>2017-09-03</td>\n",
       "      <td>0</td>\n",
       "    </tr>\n",
       "    <tr>\n",
       "      <th>4</th>\n",
       "      <td>257385</td>\n",
       "      <td>257385</td>\n",
       "      <td>contact trident legal service for alopecia aft...</td>\n",
       "      <td>0.30103</td>\n",
       "      <td>2017-06-08</td>\n",
       "      <td>0</td>\n",
       "    </tr>\n",
       "  </tbody>\n",
       "</table>\n",
       "</div>"
      ],
      "text/plain": [
       "    index  Unnamed: 0                                              title  \\\n",
       "0  175229      175229                    brooke shields quotes about mom   \n",
       "1   50004       50004  miley cyrus paid rent for a former voice conte...   \n",
       "2  296595      296595     is uber now possible after ceos departure cnet   \n",
       "3  179512      179512  really like football you have got to read thro...   \n",
       "4  257385      257385  contact trident legal service for alopecia aft...   \n",
       "\n",
       "   log_score        date  score_label  \n",
       "0    0.30103  2017-10-28            0  \n",
       "1    0.30103  2018-01-07            0  \n",
       "2    0.30103  2017-06-22            0  \n",
       "3    0.30103  2017-09-03            0  \n",
       "4    0.30103  2017-06-08            0  "
      ]
     },
     "execution_count": 106,
     "metadata": {},
     "output_type": "execute_result"
    }
   ],
   "source": [
    "df_1 = df[df['score_label']==1]\n",
    "df_0 = df[df['score_label']==0]\n",
    "df_0 = df_0.sample(frac=1.0, replace=True)\n",
    "df_concat = pd.concat([df_0, df_1])\n",
    "df_concat = df_concat.reset_index()\n",
    "df_concat.head()"
   ]
  },
  {
   "cell_type": "code",
   "execution_count": 107,
   "metadata": {
    "scrolled": true
   },
   "outputs": [
    {
     "data": {
      "text/html": [
       "<div>\n",
       "<style scoped>\n",
       "    .dataframe tbody tr th:only-of-type {\n",
       "        vertical-align: middle;\n",
       "    }\n",
       "\n",
       "    .dataframe tbody tr th {\n",
       "        vertical-align: top;\n",
       "    }\n",
       "\n",
       "    .dataframe thead th {\n",
       "        text-align: right;\n",
       "    }\n",
       "</style>\n",
       "<table border=\"1\" class=\"dataframe\">\n",
       "  <thead>\n",
       "    <tr style=\"text-align: right;\">\n",
       "      <th></th>\n",
       "      <th>index</th>\n",
       "      <th>Unnamed: 0</th>\n",
       "      <th>title</th>\n",
       "      <th>log_score</th>\n",
       "      <th>date</th>\n",
       "      <th>score_label</th>\n",
       "    </tr>\n",
       "  </thead>\n",
       "  <tbody>\n",
       "    <tr>\n",
       "      <th>0</th>\n",
       "      <td>210041</td>\n",
       "      <td>210041</td>\n",
       "      <td>places to go while dating in vermont</td>\n",
       "      <td>0.301030</td>\n",
       "      <td>2017-08-13</td>\n",
       "      <td>0</td>\n",
       "    </tr>\n",
       "    <tr>\n",
       "      <th>1</th>\n",
       "      <td>87478</td>\n",
       "      <td>87478</td>\n",
       "      <td>dalton high school teacher uses a gun reckless...</td>\n",
       "      <td>0.000000</td>\n",
       "      <td>2018-03-01</td>\n",
       "      <td>0</td>\n",
       "    </tr>\n",
       "    <tr>\n",
       "      <th>2</th>\n",
       "      <td>63489</td>\n",
       "      <td>63489</td>\n",
       "      <td>more young people needed as magistrates offici...</td>\n",
       "      <td>0.301030</td>\n",
       "      <td>2018-01-25</td>\n",
       "      <td>0</td>\n",
       "    </tr>\n",
       "    <tr>\n",
       "      <th>3</th>\n",
       "      <td>84412</td>\n",
       "      <td>84412</td>\n",
       "      <td>indian army chief pakistan china behind influx...</td>\n",
       "      <td>1.041393</td>\n",
       "      <td>2018-02-24</td>\n",
       "      <td>0</td>\n",
       "    </tr>\n",
       "    <tr>\n",
       "      <th>4</th>\n",
       "      <td>59731</td>\n",
       "      <td>59731</td>\n",
       "      <td>teen accessed top us security officials emails...</td>\n",
       "      <td>0.301030</td>\n",
       "      <td>2018-01-20</td>\n",
       "      <td>0</td>\n",
       "    </tr>\n",
       "  </tbody>\n",
       "</table>\n",
       "</div>"
      ],
      "text/plain": [
       "    index  Unnamed: 0                                              title  \\\n",
       "0  210041      210041               places to go while dating in vermont   \n",
       "1   87478       87478  dalton high school teacher uses a gun reckless...   \n",
       "2   63489       63489  more young people needed as magistrates offici...   \n",
       "3   84412       84412  indian army chief pakistan china behind influx...   \n",
       "4   59731       59731  teen accessed top us security officials emails...   \n",
       "\n",
       "   log_score        date  score_label  \n",
       "0   0.301030  2017-08-13            0  \n",
       "1   0.000000  2018-03-01            0  \n",
       "2   0.301030  2018-01-25            0  \n",
       "3   1.041393  2018-02-24            0  \n",
       "4   0.301030  2018-01-20            0  "
      ]
     },
     "execution_count": 107,
     "metadata": {},
     "output_type": "execute_result"
    }
   ],
   "source": [
    "df = df_concat.sample(frac=1).reset_index(drop=True)\n",
    "train_df = df\n",
    "df.head()"
   ]
  },
  {
   "cell_type": "code",
   "execution_count": 108,
   "metadata": {},
   "outputs": [],
   "source": [
    "vectorizer = CountVectorizer(ngram_range=(1,1))\n",
    "vectorizer = vectorizer.fit(train_df['title'])"
   ]
  },
  {
   "cell_type": "code",
   "execution_count": 109,
   "metadata": {},
   "outputs": [],
   "source": [
    "trans_title_train = vectorizer.transform(train_df['title'])\n",
    "trans_title_valid = vectorizer.transform(valid_df['title'])"
   ]
  },
  {
   "cell_type": "code",
   "execution_count": 110,
   "metadata": {},
   "outputs": [],
   "source": [
    "model = LinearRegression()"
   ]
  },
  {
   "cell_type": "code",
   "execution_count": 111,
   "metadata": {},
   "outputs": [],
   "source": [
    "model = model.fit(trans_title_train, train_df['log_score'])"
   ]
  },
  {
   "cell_type": "code",
   "execution_count": 112,
   "metadata": {},
   "outputs": [],
   "source": [
    "prediction = model.predict(trans_title_valid)"
   ]
  },
  {
   "cell_type": "code",
   "execution_count": 113,
   "metadata": {},
   "outputs": [
    {
     "data": {
      "text/html": [
       "<div>\n",
       "<style scoped>\n",
       "    .dataframe tbody tr th:only-of-type {\n",
       "        vertical-align: middle;\n",
       "    }\n",
       "\n",
       "    .dataframe tbody tr th {\n",
       "        vertical-align: top;\n",
       "    }\n",
       "\n",
       "    .dataframe thead th {\n",
       "        text-align: right;\n",
       "    }\n",
       "</style>\n",
       "<table border=\"1\" class=\"dataframe\">\n",
       "  <thead>\n",
       "    <tr style=\"text-align: right;\">\n",
       "      <th></th>\n",
       "      <th>Unnamed: 0</th>\n",
       "      <th>title</th>\n",
       "      <th>log_score</th>\n",
       "      <th>date</th>\n",
       "    </tr>\n",
       "  </thead>\n",
       "  <tbody>\n",
       "    <tr>\n",
       "      <th>133364</th>\n",
       "      <td>133364</td>\n",
       "      <td>netanyahu to address country with dramatic new...</td>\n",
       "      <td>1.342423</td>\n",
       "      <td>2018-05-01</td>\n",
       "    </tr>\n",
       "    <tr>\n",
       "      <th>133365</th>\n",
       "      <td>133365</td>\n",
       "      <td>israeli prime minister benjamin netanyahu will...</td>\n",
       "      <td>0.000000</td>\n",
       "      <td>2018-05-01</td>\n",
       "    </tr>\n",
       "    <tr>\n",
       "      <th>133366</th>\n",
       "      <td>133366</td>\n",
       "      <td>south korean leader says trump can take the nobel</td>\n",
       "      <td>0.000000</td>\n",
       "      <td>2018-05-01</td>\n",
       "    </tr>\n",
       "    <tr>\n",
       "      <th>133367</th>\n",
       "      <td>133367</td>\n",
       "      <td>south korean loudspeakers silenced for good as...</td>\n",
       "      <td>1.230449</td>\n",
       "      <td>2018-05-01</td>\n",
       "    </tr>\n",
       "    <tr>\n",
       "      <th>133368</th>\n",
       "      <td>133368</td>\n",
       "      <td>trump suggests meeting kim jong un at koreas p...</td>\n",
       "      <td>0.477121</td>\n",
       "      <td>2018-05-01</td>\n",
       "    </tr>\n",
       "  </tbody>\n",
       "</table>\n",
       "</div>"
      ],
      "text/plain": [
       "        Unnamed: 0                                              title  \\\n",
       "133364      133364  netanyahu to address country with dramatic new...   \n",
       "133365      133365  israeli prime minister benjamin netanyahu will...   \n",
       "133366      133366  south korean leader says trump can take the nobel   \n",
       "133367      133367  south korean loudspeakers silenced for good as...   \n",
       "133368      133368  trump suggests meeting kim jong un at koreas p...   \n",
       "\n",
       "        log_score        date  \n",
       "133364   1.342423  2018-05-01  \n",
       "133365   0.000000  2018-05-01  \n",
       "133366   0.000000  2018-05-01  \n",
       "133367   1.230449  2018-05-01  \n",
       "133368   0.477121  2018-05-01  "
      ]
     },
     "execution_count": 113,
     "metadata": {},
     "output_type": "execute_result"
    }
   ],
   "source": [
    "valid_df.head()"
   ]
  },
  {
   "cell_type": "code",
   "execution_count": 114,
   "metadata": {
    "scrolled": true
   },
   "outputs": [
    {
     "name": "stdout",
     "output_type": "stream",
     "text": [
      "Predicted      0     1\n",
      "Actual                \n",
      "0          17954  1691\n",
      "1           1691   476\n",
      "\n",
      "precision: 0.21965851407475773\n"
     ]
    },
    {
     "name": "stderr",
     "output_type": "stream",
     "text": [
      "/home/qara/anaconda3/lib/python3.6/site-packages/ipykernel_launcher.py:16: SettingWithCopyWarning: \n",
      "A value is trying to be set on a copy of a slice from a DataFrame\n",
      "\n",
      "See the caveats in the documentation: http://pandas.pydata.org/pandas-docs/stable/indexing.html#indexing-view-versus-copy\n",
      "  app.launch_new_instance()\n",
      "/home/qara/anaconda3/lib/python3.6/site-packages/ipykernel_launcher.py:17: SettingWithCopyWarning: \n",
      "A value is trying to be set on a copy of a slice from a DataFrame\n",
      "\n",
      "See the caveats in the documentation: http://pandas.pydata.org/pandas-docs/stable/indexing.html#indexing-view-versus-copy\n"
     ]
    },
    {
     "data": {
      "text/plain": [
       "0.21965851407475773"
      ]
     },
     "execution_count": 114,
     "metadata": {},
     "output_type": "execute_result"
    }
   ],
   "source": [
    "def evaluate_by_top_score(date, score, pred):\n",
    "    df = pd.DataFrame({'date':date, 'score':score, 'pred':pred})\n",
    "    date_list = pd.unique(date)\n",
    "    \n",
    "    df['score_label'] = np.zeros(len(df), dtype=np.int32)\n",
    "    df['pred_label'] = np.zeros(len(df), dtype=np.int32)\n",
    "    top_score = []\n",
    "    top_pred = []\n",
    "    \n",
    "    for day in date_list:\n",
    "        df_by_date = df[df['date'] == day]\n",
    "        topk = int(0.1 * len(df_by_date))\n",
    "        top_score.extend(df_by_date.score.nlargest(topk).index)\n",
    "        top_pred.extend(df_by_date.pred.nlargest(topk).index)\n",
    "        \n",
    "    df['score_label'][top_score] = 1\n",
    "    df['pred_label'][top_pred] = 1\n",
    "    cross = pd.crosstab(df['score_label'], df['pred_label'], rownames=[\"Actual\"], colnames=[\"Predicted\"])\n",
    "    precision = cross[1][1] / (cross[1][1] + cross[0][1]) \n",
    "    print(cross)\n",
    "    print()\n",
    "    print(\"precision: {}\".format(precision))\n",
    "    \n",
    "    return precision\n",
    "\n",
    "evaluate_by_top_score(valid_df.date, valid_df.log_score, prediction)"
   ]
  },
  {
   "cell_type": "code",
   "execution_count": null,
   "metadata": {},
   "outputs": [],
   "source": []
  }
 ],
 "metadata": {
  "kernelspec": {
   "display_name": "Python 3",
   "language": "python",
   "name": "python3"
  },
  "language_info": {
   "codemirror_mode": {
    "name": "ipython",
    "version": 3
   },
   "file_extension": ".py",
   "mimetype": "text/x-python",
   "name": "python",
   "nbconvert_exporter": "python",
   "pygments_lexer": "ipython3",
   "version": "3.6.5"
  }
 },
 "nbformat": 4,
 "nbformat_minor": 2
}
